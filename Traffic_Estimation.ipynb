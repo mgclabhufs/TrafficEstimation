{
  "nbformat": 4,
  "nbformat_minor": 0,
  "metadata": {
    "colab": {
      "provenance": [],
      "collapsed_sections": [
        "zew5xnbM3IK5"
      ]
    },
    "kernelspec": {
      "name": "python3",
      "display_name": "Python 3"
    },
    "language_info": {
      "name": "python"
    }
  },
  "cells": [
    {
      "cell_type": "code",
      "source": [
        "# Mount Google Drive\n",
        "from google.colab import drive # import drive from google colab\n",
        "\n",
        "ROOT = \"/content/drive\"     # default location for the drive\n",
        "print(ROOT)                 # print content of ROOT (Optional)\n",
        "\n",
        "drive.mount(ROOT)           # we mount the google drive at /content/drive"
      ],
      "metadata": {
        "colab": {
          "base_uri": "https://localhost:8080/"
        },
        "id": "pdvXH7IRcca1",
        "outputId": "ca626857-eeae-4e89-f589-c78eec7d5f6d"
      },
      "execution_count": 3,
      "outputs": [
        {
          "output_type": "stream",
          "name": "stdout",
          "text": [
            "/content/drive\n",
            "Mounted at /content/drive\n"
          ]
        }
      ]
    },
    {
      "cell_type": "code",
      "source": [
        "cd drive/MyDrive/22Project"
      ],
      "metadata": {
        "colab": {
          "base_uri": "https://localhost:8080/"
        },
        "id": "_YA7O19agd19",
        "outputId": "f67fe33a-1672-4502-93d3-f94e05f7047a"
      },
      "execution_count": 4,
      "outputs": [
        {
          "output_type": "stream",
          "name": "stdout",
          "text": [
            "/content/drive/MyDrive/22Project\n"
          ]
        }
      ]
    },
    {
      "cell_type": "code",
      "source": [
        "ls"
      ],
      "metadata": {
        "colab": {
          "base_uri": "https://localhost:8080/"
        },
        "id": "eXBSoMQIjsyK",
        "outputId": "c3b54a81-e889-4ea4-b561-2b3b50a64740"
      },
      "execution_count": 5,
      "outputs": [
        {
          "output_type": "stream",
          "name": "stdout",
          "text": [
            " DataFlow_thruput.csv      newDataset.csv  'Traffic Estimation'\n",
            " For_github_commit.ipynb   README.md\n"
          ]
        }
      ]
    },
    {
      "cell_type": "code",
      "source": [
        "#MODULES THAT WILL Be USED\n",
        "from sklearn.model_selection import train_test_split # To seperate train set and test set\n",
        "from sklearn.linear_model import LinearRegression # To use linear regression\n",
        "from sklearn.preprocessing import PolynomialFeatures\n",
        "import numpy as np # for linear algebra\n",
        "import pandas as pd # data processing, CSV file I/O\n",
        "import matplotlib.pyplot as plt # to show data scatter, pgraph\n",
        "import seaborn as sns\n",
        "%matplotlib inline"
      ],
      "metadata": {
        "id": "Y4JvEseWhHwb"
      },
      "execution_count": 6,
      "outputs": []
    },
    {
      "cell_type": "markdown",
      "source": [
        "---\n",
        "\n",
        "# (BEFORE) Extract each packet's information (not flow)"
      ],
      "metadata": {
        "id": "zew5xnbM3IK5"
      }
    },
    {
      "cell_type": "code",
      "source": [
        "filename = '/content/drive/MyDrive/22Project/newDataset.csv' # This file has each packet's info not flow.\n",
        "pktData = pd.read_csv(filename, delimiter=',', encoding = \"ISO-8859-1\", nrows = 2000) # read .csv file\n",
        "# 너무 많아서 2000개만 선정.\n",
        "pktData.dataframeName = 'newDataset.csv'\n",
        "nRow, nCol = pktData.shape # number of row and column\n",
        "print(f'There are {nRow} rows and {nCol} columns')"
      ],
      "metadata": {
        "colab": {
          "base_uri": "https://localhost:8080/"
        },
        "id": "c2P5R-mchBah",
        "outputId": "de10bf8d-c24b-4300-e2c9-753508571ffe"
      },
      "execution_count": null,
      "outputs": [
        {
          "output_type": "stream",
          "name": "stdout",
          "text": [
            "There are 2000 rows and 11 columns\n"
          ]
        }
      ]
    },
    {
      "cell_type": "code",
      "source": [
        "# captured counts graphs for each column data (except Number, Info, Time)\n",
        "def distributionGraphPerColumn(df, nGraphShown, nGraphPerRow):\n",
        "    # filtering\n",
        "    nunique = df.nunique() # nunique : 각 열마다 겹치지 않는 속성의 개수를 센다.\n",
        "    df = df[[col for col in df if nunique[col] > 1 and nunique[col] < 182]] \n",
        "\n",
        "    nRow, nCol = df.shape # 유용한 column의 행과 열\n",
        "    columnNames = list(df) # 각 열의 이름 추출\n",
        "    nGraphRow = (nCol + nGraphPerRow - 1) / nGraphPerRow\n",
        "    plt.figure(num = None, figsize = (6 * nGraphPerRow, 8 * nGraphRow), dpi = 80, facecolor = 'w', edgecolor = 'k')\n",
        "    for i in range(min(nCol, nGraphShown)):\n",
        "        plt.subplot(nGraphRow, nGraphPerRow, i + 1)\n",
        "        columnDf = df.iloc[:, i]\n",
        "        if (not np.issubdtype(type(columnDf.iloc[0]), np.number)):\n",
        "            valueCounts = columnDf.value_counts()\n",
        "            valueCounts.plot.bar()\n",
        "        else:\n",
        "            columnDf.hist()\n",
        "        plt.ylabel('counts')\n",
        "        plt.xticks(rotation = 90)\n",
        "        plt.title(f'{columnNames[i]} (column {i})')\n",
        "    plt.tight_layout(pad = 1.0, w_pad = 1.0, h_pad = 1.0)\n",
        "    plt.show()"
      ],
      "metadata": {
        "id": "FoVntE2M1f78"
      },
      "execution_count": null,
      "outputs": []
    },
    {
      "cell_type": "code",
      "source": [
        "pktData.head(5) # 위에 5개 정보 예시로 보이기"
      ],
      "metadata": {
        "colab": {
          "base_uri": "https://localhost:8080/",
          "height": 354
        },
        "id": "7QVu_U2ShFh2",
        "outputId": "31f698a9-1915-457c-98f8-37da1d8fba3b"
      },
      "execution_count": null,
      "outputs": [
        {
          "output_type": "execute_result",
          "data": {
            "text/plain": [
              "   No.                            Timestamp     Source IP Destination IP  \\\n",
              "0    1  Nov 20, 2022 19:30:04.006900000 WIT  192.168.0.38  66.22.228.211   \n",
              "1    2  Nov 20, 2022 19:30:04.006928000 WIT  192.168.0.38  66.22.228.211   \n",
              "2    3  Nov 20, 2022 19:30:04.006930000 WIT  192.168.0.38  66.22.228.211   \n",
              "3    4  Nov 20, 2022 19:30:04.006940000 WIT  192.168.0.38  66.22.228.211   \n",
              "4    5  Nov 20, 2022 19:30:04.006949000 WIT  192.168.0.38  66.22.228.211   \n",
              "\n",
              "   Source Port  Destination Port Protocol  Length      Time  \\\n",
              "0      51186.0           50001.0      UDP    1220  0.000000   \n",
              "1      51186.0           50001.0      UDP    1220  0.000028   \n",
              "2      51186.0           50001.0      UDP    1220  0.000030   \n",
              "3      51186.0           50001.0      UDP    1220  0.000040   \n",
              "4      51186.0           50001.0      UDP    1220  0.000049   \n",
              "\n",
              "   Time since previous frame                      Info  \n",
              "0                   0.000000  51186  >  50001 Len=1178  \n",
              "1                   0.000028  51186  >  50001 Len=1178  \n",
              "2                   0.000002  51186  >  50001 Len=1178  \n",
              "3                   0.000010  51186  >  50001 Len=1178  \n",
              "4                   0.000009  51186  >  50001 Len=1178  "
            ],
            "text/html": [
              "\n",
              "  <div id=\"df-43e98f09-3b75-4990-8a1f-bb313fb60cde\">\n",
              "    <div class=\"colab-df-container\">\n",
              "      <div>\n",
              "<style scoped>\n",
              "    .dataframe tbody tr th:only-of-type {\n",
              "        vertical-align: middle;\n",
              "    }\n",
              "\n",
              "    .dataframe tbody tr th {\n",
              "        vertical-align: top;\n",
              "    }\n",
              "\n",
              "    .dataframe thead th {\n",
              "        text-align: right;\n",
              "    }\n",
              "</style>\n",
              "<table border=\"1\" class=\"dataframe\">\n",
              "  <thead>\n",
              "    <tr style=\"text-align: right;\">\n",
              "      <th></th>\n",
              "      <th>No.</th>\n",
              "      <th>Timestamp</th>\n",
              "      <th>Source IP</th>\n",
              "      <th>Destination IP</th>\n",
              "      <th>Source Port</th>\n",
              "      <th>Destination Port</th>\n",
              "      <th>Protocol</th>\n",
              "      <th>Length</th>\n",
              "      <th>Time</th>\n",
              "      <th>Time since previous frame</th>\n",
              "      <th>Info</th>\n",
              "    </tr>\n",
              "  </thead>\n",
              "  <tbody>\n",
              "    <tr>\n",
              "      <th>0</th>\n",
              "      <td>1</td>\n",
              "      <td>Nov 20, 2022 19:30:04.006900000 WIT</td>\n",
              "      <td>192.168.0.38</td>\n",
              "      <td>66.22.228.211</td>\n",
              "      <td>51186.0</td>\n",
              "      <td>50001.0</td>\n",
              "      <td>UDP</td>\n",
              "      <td>1220</td>\n",
              "      <td>0.000000</td>\n",
              "      <td>0.000000</td>\n",
              "      <td>51186  &gt;  50001 Len=1178</td>\n",
              "    </tr>\n",
              "    <tr>\n",
              "      <th>1</th>\n",
              "      <td>2</td>\n",
              "      <td>Nov 20, 2022 19:30:04.006928000 WIT</td>\n",
              "      <td>192.168.0.38</td>\n",
              "      <td>66.22.228.211</td>\n",
              "      <td>51186.0</td>\n",
              "      <td>50001.0</td>\n",
              "      <td>UDP</td>\n",
              "      <td>1220</td>\n",
              "      <td>0.000028</td>\n",
              "      <td>0.000028</td>\n",
              "      <td>51186  &gt;  50001 Len=1178</td>\n",
              "    </tr>\n",
              "    <tr>\n",
              "      <th>2</th>\n",
              "      <td>3</td>\n",
              "      <td>Nov 20, 2022 19:30:04.006930000 WIT</td>\n",
              "      <td>192.168.0.38</td>\n",
              "      <td>66.22.228.211</td>\n",
              "      <td>51186.0</td>\n",
              "      <td>50001.0</td>\n",
              "      <td>UDP</td>\n",
              "      <td>1220</td>\n",
              "      <td>0.000030</td>\n",
              "      <td>0.000002</td>\n",
              "      <td>51186  &gt;  50001 Len=1178</td>\n",
              "    </tr>\n",
              "    <tr>\n",
              "      <th>3</th>\n",
              "      <td>4</td>\n",
              "      <td>Nov 20, 2022 19:30:04.006940000 WIT</td>\n",
              "      <td>192.168.0.38</td>\n",
              "      <td>66.22.228.211</td>\n",
              "      <td>51186.0</td>\n",
              "      <td>50001.0</td>\n",
              "      <td>UDP</td>\n",
              "      <td>1220</td>\n",
              "      <td>0.000040</td>\n",
              "      <td>0.000010</td>\n",
              "      <td>51186  &gt;  50001 Len=1178</td>\n",
              "    </tr>\n",
              "    <tr>\n",
              "      <th>4</th>\n",
              "      <td>5</td>\n",
              "      <td>Nov 20, 2022 19:30:04.006949000 WIT</td>\n",
              "      <td>192.168.0.38</td>\n",
              "      <td>66.22.228.211</td>\n",
              "      <td>51186.0</td>\n",
              "      <td>50001.0</td>\n",
              "      <td>UDP</td>\n",
              "      <td>1220</td>\n",
              "      <td>0.000049</td>\n",
              "      <td>0.000009</td>\n",
              "      <td>51186  &gt;  50001 Len=1178</td>\n",
              "    </tr>\n",
              "  </tbody>\n",
              "</table>\n",
              "</div>\n",
              "      <button class=\"colab-df-convert\" onclick=\"convertToInteractive('df-43e98f09-3b75-4990-8a1f-bb313fb60cde')\"\n",
              "              title=\"Convert this dataframe to an interactive table.\"\n",
              "              style=\"display:none;\">\n",
              "        \n",
              "  <svg xmlns=\"http://www.w3.org/2000/svg\" height=\"24px\"viewBox=\"0 0 24 24\"\n",
              "       width=\"24px\">\n",
              "    <path d=\"M0 0h24v24H0V0z\" fill=\"none\"/>\n",
              "    <path d=\"M18.56 5.44l.94 2.06.94-2.06 2.06-.94-2.06-.94-.94-2.06-.94 2.06-2.06.94zm-11 1L8.5 8.5l.94-2.06 2.06-.94-2.06-.94L8.5 2.5l-.94 2.06-2.06.94zm10 10l.94 2.06.94-2.06 2.06-.94-2.06-.94-.94-2.06-.94 2.06-2.06.94z\"/><path d=\"M17.41 7.96l-1.37-1.37c-.4-.4-.92-.59-1.43-.59-.52 0-1.04.2-1.43.59L10.3 9.45l-7.72 7.72c-.78.78-.78 2.05 0 2.83L4 21.41c.39.39.9.59 1.41.59.51 0 1.02-.2 1.41-.59l7.78-7.78 2.81-2.81c.8-.78.8-2.07 0-2.86zM5.41 20L4 18.59l7.72-7.72 1.47 1.35L5.41 20z\"/>\n",
              "  </svg>\n",
              "      </button>\n",
              "      \n",
              "  <style>\n",
              "    .colab-df-container {\n",
              "      display:flex;\n",
              "      flex-wrap:wrap;\n",
              "      gap: 12px;\n",
              "    }\n",
              "\n",
              "    .colab-df-convert {\n",
              "      background-color: #E8F0FE;\n",
              "      border: none;\n",
              "      border-radius: 50%;\n",
              "      cursor: pointer;\n",
              "      display: none;\n",
              "      fill: #1967D2;\n",
              "      height: 32px;\n",
              "      padding: 0 0 0 0;\n",
              "      width: 32px;\n",
              "    }\n",
              "\n",
              "    .colab-df-convert:hover {\n",
              "      background-color: #E2EBFA;\n",
              "      box-shadow: 0px 1px 2px rgba(60, 64, 67, 0.3), 0px 1px 3px 1px rgba(60, 64, 67, 0.15);\n",
              "      fill: #174EA6;\n",
              "    }\n",
              "\n",
              "    [theme=dark] .colab-df-convert {\n",
              "      background-color: #3B4455;\n",
              "      fill: #D2E3FC;\n",
              "    }\n",
              "\n",
              "    [theme=dark] .colab-df-convert:hover {\n",
              "      background-color: #434B5C;\n",
              "      box-shadow: 0px 1px 3px 1px rgba(0, 0, 0, 0.15);\n",
              "      filter: drop-shadow(0px 1px 2px rgba(0, 0, 0, 0.3));\n",
              "      fill: #FFFFFF;\n",
              "    }\n",
              "  </style>\n",
              "\n",
              "      <script>\n",
              "        const buttonEl =\n",
              "          document.querySelector('#df-43e98f09-3b75-4990-8a1f-bb313fb60cde button.colab-df-convert');\n",
              "        buttonEl.style.display =\n",
              "          google.colab.kernel.accessAllowed ? 'block' : 'none';\n",
              "\n",
              "        async function convertToInteractive(key) {\n",
              "          const element = document.querySelector('#df-43e98f09-3b75-4990-8a1f-bb313fb60cde');\n",
              "          const dataTable =\n",
              "            await google.colab.kernel.invokeFunction('convertToInteractive',\n",
              "                                                     [key], {});\n",
              "          if (!dataTable) return;\n",
              "\n",
              "          const docLinkHtml = 'Like what you see? Visit the ' +\n",
              "            '<a target=\"_blank\" href=https://colab.research.google.com/notebooks/data_table.ipynb>data table notebook</a>'\n",
              "            + ' to learn more about interactive tables.';\n",
              "          element.innerHTML = '';\n",
              "          dataTable['output_type'] = 'display_data';\n",
              "          await google.colab.output.renderOutput(dataTable, element);\n",
              "          const docLink = document.createElement('div');\n",
              "          docLink.innerHTML = docLinkHtml;\n",
              "          element.appendChild(docLink);\n",
              "        }\n",
              "      </script>\n",
              "    </div>\n",
              "  </div>\n",
              "  "
            ]
          },
          "metadata": {},
          "execution_count": 62
        }
      ]
    },
    {
      "cell_type": "code",
      "source": [
        "distributionGraphPerColumn(pktData, 6, 3)"
      ],
      "metadata": {
        "colab": {
          "base_uri": "https://localhost:8080/",
          "height": 1000
        },
        "id": "uaUIkbV18A9Q",
        "outputId": "5e471ba6-a1cd-4fe8-fc8a-3bd1ad3e65c8"
      },
      "execution_count": null,
      "outputs": [
        {
          "output_type": "display_data",
          "data": {
            "text/plain": [
              "<Figure size 1440x1706.67 with 6 Axes>"
            ],
            "image/png": "[encoded data removed]"
          },
          "metadata": {}
        }
      ]
    },
    {
      "cell_type": "markdown",
      "source": [
        "\n",
        "\n",
        "---\n",
        "\n",
        "# Extract Packet's Flow Data and Preprocessing\n",
        "\n",
        "Fill NAN value in 0 for every column -> NAN value disturb model learning\n"
      ],
      "metadata": {
        "id": "4d-TOEKZj3rB"
      }
    },
    {
      "cell_type": "code",
      "source": [
        "# DATA EXTRACT\n",
        "\n",
        "flowFilename = '/content/drive/MyDrive/22Project/DataFlow_thruput.csv' \n",
        "# This is packet's flow data from wireshark conversations.\n",
        "# I copied and store in csv file.\n",
        "# This has S/D IP, Port, Protocol(UDP or TCP), Packet bytes (In flow), throughput(S->D, D->S), Duration\n",
        "flowData = pd.read_csv(flowFilename, delimiter = ',', encoding = \"ISO-8859-1\")\n",
        "flowData.dataframeName = 'DataFlow_thruput.csv'\n",
        "row, col = flowData.shape\n",
        "print(f'There are {row} rows and {col} columns')"
      ],
      "metadata": {
        "colab": {
          "base_uri": "https://localhost:8080/"
        },
        "id": "xd1ijQ2Sj3i7",
        "outputId": "91ce04ce-fbf7-4544-e9a3-1b6c5908fcfd"
      },
      "execution_count": 7,
      "outputs": [
        {
          "output_type": "stream",
          "name": "stdout",
          "text": [
            "There are 2929 rows and 16 columns\n"
          ]
        }
      ]
    },
    {
      "cell_type": "code",
      "source": [
        "# 5 DATA FORM EXAMPLE (TO CHECK COLUMN)\n",
        "\n",
        "flowData.head(5)"
      ],
      "metadata": {
        "colab": {
          "base_uri": "https://localhost:8080/",
          "height": 288
        },
        "id": "0oTXWOu0kQMi",
        "outputId": "a37210e8-a624-4351-c746-7562e0dd613e"
      },
      "execution_count": 8,
      "outputs": [
        {
          "output_type": "execute_result",
          "data": {
            "text/plain": [
              "                   Source IP  Source Port Destination IP  Destinatino Port  \\\n",
              "0               192.168.0.38        51186  66.22.228.211             50001   \n",
              "1               192.168.0.54         5353    224.0.0.251              5353   \n",
              "2  fe80::10ea:5b59:7fe5:b963         5353       ff02::fb              5353   \n",
              "3               192.168.0.15         5353    224.0.0.251              5353   \n",
              "4  fe80::104b:82fd:b8fa:a3d6         5353       ff02::fb              5353   \n",
              "\n",
              "  Protocol  Num_pkts     Bytes  Stream ID  StoD Num_pkts  StoD bytes  \\\n",
              "0      UDP     15776  18012247          0          15115    17936733   \n",
              "1      UDP       315     93246          1            315       93246   \n",
              "2      UDP       314     99721          2            314       99721   \n",
              "3      UDP       922    277533          3            922      277533   \n",
              "4      UDP       924    296433          4            924      296433   \n",
              "\n",
              "   DtoS Num_pkts  DtoS bytes  Captured Time     Duration  StoD bits/sec  \\\n",
              "0            661       75514       0.000000    53.536196      2680314.0   \n",
              "1              0           0       0.060194  5013.060049          148.0   \n",
              "2              0           0       0.060195  5013.060049          159.0   \n",
              "3              0           0       0.162717  3204.244787          692.0   \n",
              "4              0           0       0.162717  3204.244788          740.0   \n",
              "\n",
              "   DtoS bits/sec  \n",
              "0        11284.0  \n",
              "1            0.0  \n",
              "2            0.0  \n",
              "3            0.0  \n",
              "4            0.0  "
            ],
            "text/html": [
              "\n",
              "  <div id=\"df-3c3daf1c-ac99-4631-8013-09a9bf45a1ba\">\n",
              "    <div class=\"colab-df-container\">\n",
              "      <div>\n",
              "<style scoped>\n",
              "    .dataframe tbody tr th:only-of-type {\n",
              "        vertical-align: middle;\n",
              "    }\n",
              "\n",
              "    .dataframe tbody tr th {\n",
              "        vertical-align: top;\n",
              "    }\n",
              "\n",
              "    .dataframe thead th {\n",
              "        text-align: right;\n",
              "    }\n",
              "</style>\n",
              "<table border=\"1\" class=\"dataframe\">\n",
              "  <thead>\n",
              "    <tr style=\"text-align: right;\">\n",
              "      <th></th>\n",
              "      <th>Source IP</th>\n",
              "      <th>Source Port</th>\n",
              "      <th>Destination IP</th>\n",
              "      <th>Destinatino Port</th>\n",
              "      <th>Protocol</th>\n",
              "      <th>Num_pkts</th>\n",
              "      <th>Bytes</th>\n",
              "      <th>Stream ID</th>\n",
              "      <th>StoD Num_pkts</th>\n",
              "      <th>StoD bytes</th>\n",
              "      <th>DtoS Num_pkts</th>\n",
              "      <th>DtoS bytes</th>\n",
              "      <th>Captured Time</th>\n",
              "      <th>Duration</th>\n",
              "      <th>StoD bits/sec</th>\n",
              "      <th>DtoS bits/sec</th>\n",
              "    </tr>\n",
              "  </thead>\n",
              "  <tbody>\n",
              "    <tr>\n",
              "      <th>0</th>\n",
              "      <td>192.168.0.38</td>\n",
              "      <td>51186</td>\n",
              "      <td>66.22.228.211</td>\n",
              "      <td>50001</td>\n",
              "      <td>UDP</td>\n",
              "      <td>15776</td>\n",
              "      <td>18012247</td>\n",
              "      <td>0</td>\n",
              "      <td>15115</td>\n",
              "      <td>17936733</td>\n",
              "      <td>661</td>\n",
              "      <td>75514</td>\n",
              "      <td>0.000000</td>\n",
              "      <td>53.536196</td>\n",
              "      <td>2680314.0</td>\n",
              "      <td>11284.0</td>\n",
              "    </tr>\n",
              "    <tr>\n",
              "      <th>1</th>\n",
              "      <td>192.168.0.54</td>\n",
              "      <td>5353</td>\n",
              "      <td>224.0.0.251</td>\n",
              "      <td>5353</td>\n",
              "      <td>UDP</td>\n",
              "      <td>315</td>\n",
              "      <td>93246</td>\n",
              "      <td>1</td>\n",
              "      <td>315</td>\n",
              "      <td>93246</td>\n",
              "      <td>0</td>\n",
              "      <td>0</td>\n",
              "      <td>0.060194</td>\n",
              "      <td>5013.060049</td>\n",
              "      <td>148.0</td>\n",
              "      <td>0.0</td>\n",
              "    </tr>\n",
              "    <tr>\n",
              "      <th>2</th>\n",
              "      <td>fe80::10ea:5b59:7fe5:b963</td>\n",
              "      <td>5353</td>\n",
              "      <td>ff02::fb</td>\n",
              "      <td>5353</td>\n",
              "      <td>UDP</td>\n",
              "      <td>314</td>\n",
              "      <td>99721</td>\n",
              "      <td>2</td>\n",
              "      <td>314</td>\n",
              "      <td>99721</td>\n",
              "      <td>0</td>\n",
              "      <td>0</td>\n",
              "      <td>0.060195</td>\n",
              "      <td>5013.060049</td>\n",
              "      <td>159.0</td>\n",
              "      <td>0.0</td>\n",
              "    </tr>\n",
              "    <tr>\n",
              "      <th>3</th>\n",
              "      <td>192.168.0.15</td>\n",
              "      <td>5353</td>\n",
              "      <td>224.0.0.251</td>\n",
              "      <td>5353</td>\n",
              "      <td>UDP</td>\n",
              "      <td>922</td>\n",
              "      <td>277533</td>\n",
              "      <td>3</td>\n",
              "      <td>922</td>\n",
              "      <td>277533</td>\n",
              "      <td>0</td>\n",
              "      <td>0</td>\n",
              "      <td>0.162717</td>\n",
              "      <td>3204.244787</td>\n",
              "      <td>692.0</td>\n",
              "      <td>0.0</td>\n",
              "    </tr>\n",
              "    <tr>\n",
              "      <th>4</th>\n",
              "      <td>fe80::104b:82fd:b8fa:a3d6</td>\n",
              "      <td>5353</td>\n",
              "      <td>ff02::fb</td>\n",
              "      <td>5353</td>\n",
              "      <td>UDP</td>\n",
              "      <td>924</td>\n",
              "      <td>296433</td>\n",
              "      <td>4</td>\n",
              "      <td>924</td>\n",
              "      <td>296433</td>\n",
              "      <td>0</td>\n",
              "      <td>0</td>\n",
              "      <td>0.162717</td>\n",
              "      <td>3204.244788</td>\n",
              "      <td>740.0</td>\n",
              "      <td>0.0</td>\n",
              "    </tr>\n",
              "  </tbody>\n",
              "</table>\n",
              "</div>\n",
              "      <button class=\"colab-df-convert\" onclick=\"convertToInteractive('df-3c3daf1c-ac99-4631-8013-09a9bf45a1ba')\"\n",
              "              title=\"Convert this dataframe to an interactive table.\"\n",
              "              style=\"display:none;\">\n",
              "        \n",
              "  <svg xmlns=\"http://www.w3.org/2000/svg\" height=\"24px\"viewBox=\"0 0 24 24\"\n",
              "       width=\"24px\">\n",
              "    <path d=\"M0 0h24v24H0V0z\" fill=\"none\"/>\n",
              "    <path d=\"M18.56 5.44l.94 2.06.94-2.06 2.06-.94-2.06-.94-.94-2.06-.94 2.06-2.06.94zm-11 1L8.5 8.5l.94-2.06 2.06-.94-2.06-.94L8.5 2.5l-.94 2.06-2.06.94zm10 10l.94 2.06.94-2.06 2.06-.94-2.06-.94-.94-2.06-.94 2.06-2.06.94z\"/><path d=\"M17.41 7.96l-1.37-1.37c-.4-.4-.92-.59-1.43-.59-.52 0-1.04.2-1.43.59L10.3 9.45l-7.72 7.72c-.78.78-.78 2.05 0 2.83L4 21.41c.39.39.9.59 1.41.59.51 0 1.02-.2 1.41-.59l7.78-7.78 2.81-2.81c.8-.78.8-2.07 0-2.86zM5.41 20L4 18.59l7.72-7.72 1.47 1.35L5.41 20z\"/>\n",
              "  </svg>\n",
              "      </button>\n",
              "      \n",
              "  <style>\n",
              "    .colab-df-container {\n",
              "      display:flex;\n",
              "      flex-wrap:wrap;\n",
              "      gap: 12px;\n",
              "    }\n",
              "\n",
              "    .colab-df-convert {\n",
              "      background-color: #E8F0FE;\n",
              "      border: none;\n",
              "      border-radius: 50%;\n",
              "      cursor: pointer;\n",
              "      display: none;\n",
              "      fill: #1967D2;\n",
              "      height: 32px;\n",
              "      padding: 0 0 0 0;\n",
              "      width: 32px;\n",
              "    }\n",
              "\n",
              "    .colab-df-convert:hover {\n",
              "      background-color: #E2EBFA;\n",
              "      box-shadow: 0px 1px 2px rgba(60, 64, 67, 0.3), 0px 1px 3px 1px rgba(60, 64, 67, 0.15);\n",
              "      fill: #174EA6;\n",
              "    }\n",
              "\n",
              "    [theme=dark] .colab-df-convert {\n",
              "      background-color: #3B4455;\n",
              "      fill: #D2E3FC;\n",
              "    }\n",
              "\n",
              "    [theme=dark] .colab-df-convert:hover {\n",
              "      background-color: #434B5C;\n",
              "      box-shadow: 0px 1px 3px 1px rgba(0, 0, 0, 0.15);\n",
              "      filter: drop-shadow(0px 1px 2px rgba(0, 0, 0, 0.3));\n",
              "      fill: #FFFFFF;\n",
              "    }\n",
              "  </style>\n",
              "\n",
              "      <script>\n",
              "        const buttonEl =\n",
              "          document.querySelector('#df-3c3daf1c-ac99-4631-8013-09a9bf45a1ba button.colab-df-convert');\n",
              "        buttonEl.style.display =\n",
              "          google.colab.kernel.accessAllowed ? 'block' : 'none';\n",
              "\n",
              "        async function convertToInteractive(key) {\n",
              "          const element = document.querySelector('#df-3c3daf1c-ac99-4631-8013-09a9bf45a1ba');\n",
              "          const dataTable =\n",
              "            await google.colab.kernel.invokeFunction('convertToInteractive',\n",
              "                                                     [key], {});\n",
              "          if (!dataTable) return;\n",
              "\n",
              "          const docLinkHtml = 'Like what you see? Visit the ' +\n",
              "            '<a target=\"_blank\" href=https://colab.research.google.com/notebooks/data_table.ipynb>data table notebook</a>'\n",
              "            + ' to learn more about interactive tables.';\n",
              "          element.innerHTML = '';\n",
              "          dataTable['output_type'] = 'display_data';\n",
              "          await google.colab.output.renderOutput(dataTable, element);\n",
              "          const docLink = document.createElement('div');\n",
              "          docLink.innerHTML = docLinkHtml;\n",
              "          element.appendChild(docLink);\n",
              "        }\n",
              "      </script>\n",
              "    </div>\n",
              "  </div>\n",
              "  "
            ]
          },
          "metadata": {},
          "execution_count": 8
        }
      ]
    },
    {
      "cell_type": "code",
      "source": [
        "flowData.isna().sum() # Count NAN value in each column"
      ],
      "metadata": {
        "colab": {
          "base_uri": "https://localhost:8080/"
        },
        "id": "jSy9uO4jdRhf",
        "outputId": "c3b65ce2-d050-414e-c498-1b125d37795c"
      },
      "execution_count": 9,
      "outputs": [
        {
          "output_type": "execute_result",
          "data": {
            "text/plain": [
              "Source IP             0\n",
              "Source Port           0\n",
              "Destination IP        0\n",
              "Destinatino Port      0\n",
              "Protocol              0\n",
              "Num_pkts              0\n",
              "Bytes                 0\n",
              "Stream ID             0\n",
              "StoD Num_pkts         0\n",
              "StoD bytes            0\n",
              "DtoS Num_pkts         0\n",
              "DtoS bytes            0\n",
              "Captured Time         0\n",
              "Duration              0\n",
              "StoD bits/sec       499\n",
              "DtoS bits/sec       499\n",
              "dtype: int64"
            ]
          },
          "metadata": {},
          "execution_count": 9
        }
      ]
    },
    {
      "cell_type": "code",
      "source": [
        "# Fill with 0 where column that has NAN value\n",
        "flowData['StoD bits/sec'] = flowData['StoD bits/sec'].fillna(0) \n",
        "flowData['DtoS bits/sec'] = flowData['DtoS bits/sec'].fillna(0)"
      ],
      "metadata": {
        "id": "iLUk6zRgdiEE"
      },
      "execution_count": 10,
      "outputs": []
    },
    {
      "cell_type": "markdown",
      "source": [
        "# Make ML model for throughput\n",
        "Mechanism\n",
        "- Calculate all throughput occured in my labtop\n",
        "- Each flow has duration. This duration shows in [sec]\n",
        "- Get one flow, store throughput and duration in each array.\n",
        "- flow시작 ~ duration이 끝나면 해당 throughput은 삭제해줘야함.\n",
        "- duration 안에 새로운 flow가 시작 : throughput을 더해준다."
      ],
      "metadata": {
        "id": "kfnGW1T-vat1"
      }
    },
    {
      "cell_type": "code",
      "source": [
        "flowData.head(5)"
      ],
      "metadata": {
        "colab": {
          "base_uri": "https://localhost:8080/",
          "height": 288
        },
        "id": "D2bP18hov7MP",
        "outputId": "49f1b90b-759b-4544-c092-6eb71cb4a712"
      },
      "execution_count": 11,
      "outputs": [
        {
          "output_type": "execute_result",
          "data": {
            "text/plain": [
              "                   Source IP  Source Port Destination IP  Destinatino Port  \\\n",
              "0               192.168.0.38        51186  66.22.228.211             50001   \n",
              "1               192.168.0.54         5353    224.0.0.251              5353   \n",
              "2  fe80::10ea:5b59:7fe5:b963         5353       ff02::fb              5353   \n",
              "3               192.168.0.15         5353    224.0.0.251              5353   \n",
              "4  fe80::104b:82fd:b8fa:a3d6         5353       ff02::fb              5353   \n",
              "\n",
              "  Protocol  Num_pkts     Bytes  Stream ID  StoD Num_pkts  StoD bytes  \\\n",
              "0      UDP     15776  18012247          0          15115    17936733   \n",
              "1      UDP       315     93246          1            315       93246   \n",
              "2      UDP       314     99721          2            314       99721   \n",
              "3      UDP       922    277533          3            922      277533   \n",
              "4      UDP       924    296433          4            924      296433   \n",
              "\n",
              "   DtoS Num_pkts  DtoS bytes  Captured Time     Duration  StoD bits/sec  \\\n",
              "0            661       75514       0.000000    53.536196      2680314.0   \n",
              "1              0           0       0.060194  5013.060049          148.0   \n",
              "2              0           0       0.060195  5013.060049          159.0   \n",
              "3              0           0       0.162717  3204.244787          692.0   \n",
              "4              0           0       0.162717  3204.244788          740.0   \n",
              "\n",
              "   DtoS bits/sec  \n",
              "0        11284.0  \n",
              "1            0.0  \n",
              "2            0.0  \n",
              "3            0.0  \n",
              "4            0.0  "
            ],
            "text/html": [
              "\n",
              "  <div id=\"df-24f16d53-f51f-4ece-9e13-f2a025ba714f\">\n",
              "    <div class=\"colab-df-container\">\n",
              "      <div>\n",
              "<style scoped>\n",
              "    .dataframe tbody tr th:only-of-type {\n",
              "        vertical-align: middle;\n",
              "    }\n",
              "\n",
              "    .dataframe tbody tr th {\n",
              "        vertical-align: top;\n",
              "    }\n",
              "\n",
              "    .dataframe thead th {\n",
              "        text-align: right;\n",
              "    }\n",
              "</style>\n",
              "<table border=\"1\" class=\"dataframe\">\n",
              "  <thead>\n",
              "    <tr style=\"text-align: right;\">\n",
              "      <th></th>\n",
              "      <th>Source IP</th>\n",
              "      <th>Source Port</th>\n",
              "      <th>Destination IP</th>\n",
              "      <th>Destinatino Port</th>\n",
              "      <th>Protocol</th>\n",
              "      <th>Num_pkts</th>\n",
              "      <th>Bytes</th>\n",
              "      <th>Stream ID</th>\n",
              "      <th>StoD Num_pkts</th>\n",
              "      <th>StoD bytes</th>\n",
              "      <th>DtoS Num_pkts</th>\n",
              "      <th>DtoS bytes</th>\n",
              "      <th>Captured Time</th>\n",
              "      <th>Duration</th>\n",
              "      <th>StoD bits/sec</th>\n",
              "      <th>DtoS bits/sec</th>\n",
              "    </tr>\n",
              "  </thead>\n",
              "  <tbody>\n",
              "    <tr>\n",
              "      <th>0</th>\n",
              "      <td>192.168.0.38</td>\n",
              "      <td>51186</td>\n",
              "      <td>66.22.228.211</td>\n",
              "      <td>50001</td>\n",
              "      <td>UDP</td>\n",
              "      <td>15776</td>\n",
              "      <td>18012247</td>\n",
              "      <td>0</td>\n",
              "      <td>15115</td>\n",
              "      <td>17936733</td>\n",
              "      <td>661</td>\n",
              "      <td>75514</td>\n",
              "      <td>0.000000</td>\n",
              "      <td>53.536196</td>\n",
              "      <td>2680314.0</td>\n",
              "      <td>11284.0</td>\n",
              "    </tr>\n",
              "    <tr>\n",
              "      <th>1</th>\n",
              "      <td>192.168.0.54</td>\n",
              "      <td>5353</td>\n",
              "      <td>224.0.0.251</td>\n",
              "      <td>5353</td>\n",
              "      <td>UDP</td>\n",
              "      <td>315</td>\n",
              "      <td>93246</td>\n",
              "      <td>1</td>\n",
              "      <td>315</td>\n",
              "      <td>93246</td>\n",
              "      <td>0</td>\n",
              "      <td>0</td>\n",
              "      <td>0.060194</td>\n",
              "      <td>5013.060049</td>\n",
              "      <td>148.0</td>\n",
              "      <td>0.0</td>\n",
              "    </tr>\n",
              "    <tr>\n",
              "      <th>2</th>\n",
              "      <td>fe80::10ea:5b59:7fe5:b963</td>\n",
              "      <td>5353</td>\n",
              "      <td>ff02::fb</td>\n",
              "      <td>5353</td>\n",
              "      <td>UDP</td>\n",
              "      <td>314</td>\n",
              "      <td>99721</td>\n",
              "      <td>2</td>\n",
              "      <td>314</td>\n",
              "      <td>99721</td>\n",
              "      <td>0</td>\n",
              "      <td>0</td>\n",
              "      <td>0.060195</td>\n",
              "      <td>5013.060049</td>\n",
              "      <td>159.0</td>\n",
              "      <td>0.0</td>\n",
              "    </tr>\n",
              "    <tr>\n",
              "      <th>3</th>\n",
              "      <td>192.168.0.15</td>\n",
              "      <td>5353</td>\n",
              "      <td>224.0.0.251</td>\n",
              "      <td>5353</td>\n",
              "      <td>UDP</td>\n",
              "      <td>922</td>\n",
              "      <td>277533</td>\n",
              "      <td>3</td>\n",
              "      <td>922</td>\n",
              "      <td>277533</td>\n",
              "      <td>0</td>\n",
              "      <td>0</td>\n",
              "      <td>0.162717</td>\n",
              "      <td>3204.244787</td>\n",
              "      <td>692.0</td>\n",
              "      <td>0.0</td>\n",
              "    </tr>\n",
              "    <tr>\n",
              "      <th>4</th>\n",
              "      <td>fe80::104b:82fd:b8fa:a3d6</td>\n",
              "      <td>5353</td>\n",
              "      <td>ff02::fb</td>\n",
              "      <td>5353</td>\n",
              "      <td>UDP</td>\n",
              "      <td>924</td>\n",
              "      <td>296433</td>\n",
              "      <td>4</td>\n",
              "      <td>924</td>\n",
              "      <td>296433</td>\n",
              "      <td>0</td>\n",
              "      <td>0</td>\n",
              "      <td>0.162717</td>\n",
              "      <td>3204.244788</td>\n",
              "      <td>740.0</td>\n",
              "      <td>0.0</td>\n",
              "    </tr>\n",
              "  </tbody>\n",
              "</table>\n",
              "</div>\n",
              "      <button class=\"colab-df-convert\" onclick=\"convertToInteractive('df-24f16d53-f51f-4ece-9e13-f2a025ba714f')\"\n",
              "              title=\"Convert this dataframe to an interactive table.\"\n",
              "              style=\"display:none;\">\n",
              "        \n",
              "  <svg xmlns=\"http://www.w3.org/2000/svg\" height=\"24px\"viewBox=\"0 0 24 24\"\n",
              "       width=\"24px\">\n",
              "    <path d=\"M0 0h24v24H0V0z\" fill=\"none\"/>\n",
              "    <path d=\"M18.56 5.44l.94 2.06.94-2.06 2.06-.94-2.06-.94-.94-2.06-.94 2.06-2.06.94zm-11 1L8.5 8.5l.94-2.06 2.06-.94-2.06-.94L8.5 2.5l-.94 2.06-2.06.94zm10 10l.94 2.06.94-2.06 2.06-.94-2.06-.94-.94-2.06-.94 2.06-2.06.94z\"/><path d=\"M17.41 7.96l-1.37-1.37c-.4-.4-.92-.59-1.43-.59-.52 0-1.04.2-1.43.59L10.3 9.45l-7.72 7.72c-.78.78-.78 2.05 0 2.83L4 21.41c.39.39.9.59 1.41.59.51 0 1.02-.2 1.41-.59l7.78-7.78 2.81-2.81c.8-.78.8-2.07 0-2.86zM5.41 20L4 18.59l7.72-7.72 1.47 1.35L5.41 20z\"/>\n",
              "  </svg>\n",
              "      </button>\n",
              "      \n",
              "  <style>\n",
              "    .colab-df-container {\n",
              "      display:flex;\n",
              "      flex-wrap:wrap;\n",
              "      gap: 12px;\n",
              "    }\n",
              "\n",
              "    .colab-df-convert {\n",
              "      background-color: #E8F0FE;\n",
              "      border: none;\n",
              "      border-radius: 50%;\n",
              "      cursor: pointer;\n",
              "      display: none;\n",
              "      fill: #1967D2;\n",
              "      height: 32px;\n",
              "      padding: 0 0 0 0;\n",
              "      width: 32px;\n",
              "    }\n",
              "\n",
              "    .colab-df-convert:hover {\n",
              "      background-color: #E2EBFA;\n",
              "      box-shadow: 0px 1px 2px rgba(60, 64, 67, 0.3), 0px 1px 3px 1px rgba(60, 64, 67, 0.15);\n",
              "      fill: #174EA6;\n",
              "    }\n",
              "\n",
              "    [theme=dark] .colab-df-convert {\n",
              "      background-color: #3B4455;\n",
              "      fill: #D2E3FC;\n",
              "    }\n",
              "\n",
              "    [theme=dark] .colab-df-convert:hover {\n",
              "      background-color: #434B5C;\n",
              "      box-shadow: 0px 1px 3px 1px rgba(0, 0, 0, 0.15);\n",
              "      filter: drop-shadow(0px 1px 2px rgba(0, 0, 0, 0.3));\n",
              "      fill: #FFFFFF;\n",
              "    }\n",
              "  </style>\n",
              "\n",
              "      <script>\n",
              "        const buttonEl =\n",
              "          document.querySelector('#df-24f16d53-f51f-4ece-9e13-f2a025ba714f button.colab-df-convert');\n",
              "        buttonEl.style.display =\n",
              "          google.colab.kernel.accessAllowed ? 'block' : 'none';\n",
              "\n",
              "        async function convertToInteractive(key) {\n",
              "          const element = document.querySelector('#df-24f16d53-f51f-4ece-9e13-f2a025ba714f');\n",
              "          const dataTable =\n",
              "            await google.colab.kernel.invokeFunction('convertToInteractive',\n",
              "                                                     [key], {});\n",
              "          if (!dataTable) return;\n",
              "\n",
              "          const docLinkHtml = 'Like what you see? Visit the ' +\n",
              "            '<a target=\"_blank\" href=https://colab.research.google.com/notebooks/data_table.ipynb>data table notebook</a>'\n",
              "            + ' to learn more about interactive tables.';\n",
              "          element.innerHTML = '';\n",
              "          dataTable['output_type'] = 'display_data';\n",
              "          await google.colab.output.renderOutput(dataTable, element);\n",
              "          const docLink = document.createElement('div');\n",
              "          docLink.innerHTML = docLinkHtml;\n",
              "          element.appendChild(docLink);\n",
              "        }\n",
              "      </script>\n",
              "    </div>\n",
              "  </div>\n",
              "  "
            ]
          },
          "metadata": {},
          "execution_count": 11
        }
      ]
    },
    {
      "cell_type": "code",
      "source": [
        "# check throughput for each window size\n",
        "# window size = 1 [sec]\n",
        "thruputArr = np.array([]) # y-axis\n",
        "timeArr = np.array([]) # x-axis\n",
        "\n",
        "startTimeArr = np.array([]) # compare array\n",
        "endTimeArr = np.array([])   # compare array\n",
        "eachThruputArr = np.array([])\n",
        "\n",
        "\n",
        "# 해당 flow들에 대한 metadata를 포함하고 있는 배열을 생성. (해당 flow의 duration, 해당 flow의 throughput)\n",
        "for rowIdx, row in flowData.iterrows():\n",
        "  eachThruputArr = np.append(eachThruputArr, row['StoD bits/sec'])\n",
        "  endTimeArr = np.append(endTimeArr, row['Captured Time']+row['Duration'])\n",
        "  startTimeArr = np.append(startTimeArr, row['Captured Time'])\n",
        "\n",
        "# 가장 마지막에 끝나는 flow의 시간\n",
        "maxtime = max(endTimeArr)\n",
        "\n",
        "# 비교할 변수\n",
        "window = 1\n",
        "\n",
        "# window가 맨 마지막에 끝나는 flow의 시간까지\n",
        "while window < maxtime+1:\n",
        "  thruput = 0.0\n",
        "  for i in range(len(endTimeArr)):\n",
        "    if(startTimeArr[i] <= window and window <= endTimeArr[i]):\n",
        "      thruput += eachThruputArr[i]\n",
        "\n",
        "  thruputArr = np.append(thruputArr, thruput)\n",
        "  timeArr = np.append(timeArr, window)\n",
        "  window += 1"
      ],
      "metadata": {
        "id": "_ZBQSyf0UObL"
      },
      "execution_count": 14,
      "outputs": []
    },
    {
      "cell_type": "code",
      "source": [
        "plt.xlabel('Time [sec]')\n",
        "plt.ylabel('Throughput [bits]')\n",
        "plt.scatter(timeArr, thruputArr)"
      ],
      "metadata": {
        "colab": {
          "base_uri": "https://localhost:8080/",
          "height": 308
        },
        "id": "QGhyg-Q6ZM9a",
        "outputId": "86a7b6c0-7c4d-4b34-e7cb-519b82bc59de"
      },
      "execution_count": 17,
      "outputs": [
        {
          "output_type": "execute_result",
          "data": {
            "text/plain": [
              "<matplotlib.collections.PathCollection at 0x7f57f4014b80>"
            ]
          },
          "metadata": {},
          "execution_count": 17
        },
        {
          "output_type": "display_data",
          "data": {
            "text/plain": [
              "<Figure size 432x288 with 1 Axes>"
            ],
            "image/png": "[encoded data removed]"
          },
          "metadata": {
            "needs_background": "light"
          }
        }
      ]
    },
    {
      "cell_type": "code",
      "source": [
        "\"\"\"\n",
        "thruputArr = np.array([]) # Y축이 될 배열\n",
        "starttimeArr = np.array([]) # X축이 될 배열\n",
        "\n",
        "eachThruput = np.array([])\n",
        "eachEndtimeArr = np.array([])\n",
        "currentThruput = 0.0\n",
        "\n",
        "'''\n",
        "1. 해당 flow의 throughput을 배열에 넣기 (A -> B 에서 sending bits만 생각한다.) : eachEndtimeArr[]\n",
        "2. 해당 flow의 종료 시간을 배열에 넣기 : eachThruput[]\n",
        "3. 현재 통용되고 있는 throughput을 변수에 더하기\n",
        "4. 해당 flow의 captured 시간보다 더 전에 종료 시간이 존재하면 해당 throughput은 삭제\n",
        "   그렇지 않은 index는 해당 정보를 다른 배열에 복사 cpTP[], cpTime[]\n",
        "5. eachEndtimeArr[] = cpTime[], eachThruput[] = cpTP[]\n",
        "'''\n",
        "\n",
        "for rowIdx, row in flowData.iterrows():\n",
        "  eachEndtimeArr = np.append(eachEndtimeArr, (row['Captured Time']+row['Duration'])) # 해당 row flow가 끝나는 시간 측정\n",
        "  eachThruput = np.append(eachThruput, row['StoD bits/sec']) # 해당 row flow의 throughput 측정 (Source to Destination)\n",
        "\n",
        "  currentThruput += row['StoD bits/sec'] # 이전 flow의 thruput에 현재 Row thruput을 더한 값. = 내 노트북에서 현재 일어나고 있는 throughput\n",
        "\n",
        "  starttimeArr = np.append(starttimeArr, row['Captured Time'])\n",
        "  # start time of the flow (to scatter graph) - x축으로 사용\n",
        "\n",
        "  cpTP = np.array([])\n",
        "  cpTime = np.array([])\n",
        "  # 이전 시간 flow는 빼고 생각할 거니까, 그것을 제외하고 갱신할 list 선언\n",
        "  for i in range(len(eachEndtimeArr)): # endtimeArr를 비교해줄 것임.\n",
        "    if eachEndtimeArr[i] < row['Captured Time']: # 현재 flow의 시간보다 전에 끝나는 시간을 갖고 있는 flow는,\n",
        "      currentThruput -= eachThruput[i] # 현재 thruput에서 그때의 flow를 제거.\n",
        "    else: # 만약 현재 flow 시간보다 더 오래 지속된다면,\n",
        "      cpTP = np.append(cpTP, eachThruput[i]) # 그 flow의 thruput과 time의 정보는 유지한다.\n",
        "      cpTime = np.append(cpTime, eachEndtimeArr[i])\n",
        "      # cpTime = eachEndtimeArr[i] // logical error line\n",
        "\n",
        "  # 삭제된 flow를 제외한 현재 on-flight 중인 flow들의 data 복사\n",
        "  eachThruput = cpTP \n",
        "  eachEndtimeArr = cpTime\n",
        "\n",
        "  thruputArr = np.append(thruputArr, currentThruput)\n",
        "\"\"\""
      ],
      "metadata": {
        "id": "TyT-5DcFdg0j"
      },
      "execution_count": null,
      "outputs": []
    },
    {
      "cell_type": "code",
      "source": [
        "# 위에서 test set과 train set을 seperate.\n",
        "train_input, test_input, train_target, test_target = train_test_split(\n",
        "    timeArr, thruputArr, random_state=42)\n",
        "\n",
        "# 각 입력은 2D array로 선언.\n",
        "train_input = train_input.reshape(-1,1)\n",
        "test_input = test_input.reshape(-1,1)"
      ],
      "metadata": {
        "id": "GYIFKG8viAf-"
      },
      "execution_count": 18,
      "outputs": []
    },
    {
      "cell_type": "markdown",
      "source": [
        "**2차식 선형회귀**"
      ],
      "metadata": {
        "id": "0t7U4gtVls5L"
      }
    },
    {
      "cell_type": "code",
      "source": [
        "x = np.c_[train_input, train_input**2]\n",
        "y = train_target\n",
        "\n",
        "model2 = LinearRegression()\n",
        "model2.fit(x, y) # x: 2D array, y: 1D array\n",
        "\n",
        "model2.coef_, model2.intercept_"
      ],
      "metadata": {
        "colab": {
          "base_uri": "https://localhost:8080/"
        },
        "id": "QwTwR9RVkrKS",
        "outputId": "5b3a87dc-413c-4307-e591-16bf9f2d9341"
      },
      "execution_count": 19,
      "outputs": [
        {
          "output_type": "execute_result",
          "data": {
            "text/plain": [
              "(array([-1.38166566e+03,  1.07357124e-01]), 4441541.616051214)"
            ]
          },
          "metadata": {},
          "execution_count": 19
        }
      ]
    },
    {
      "cell_type": "code",
      "source": [
        "xs = np.arange(1,max(train_input)+1) # To determine range of x that will be shown\n",
        "ys = xs*model2.coef_[0] + (xs**2)*model2.coef_[1] + model2.intercept_ \n",
        "# model y = coef[0]*x^2 + coef[1]*x + intercept\n",
        "\n",
        "\n",
        "plt.scatter(train_input, train_target, alpha=0.3)\n",
        "plt.plot(xs,ys,'r-',lw=3)"
      ],
      "metadata": {
        "colab": {
          "base_uri": "https://localhost:8080/",
          "height": 294
        },
        "id": "9hnFXI7NlAnb",
        "outputId": "be737fbc-ec53-42af-f725-ece4c915b07a"
      },
      "execution_count": 20,
      "outputs": [
        {
          "output_type": "execute_result",
          "data": {
            "text/plain": [
              "[<matplotlib.lines.Line2D at 0x7f57f3b768e0>]"
            ]
          },
          "metadata": {},
          "execution_count": 20
        },
        {
          "output_type": "display_data",
          "data": {
            "text/plain": [
              "<Figure size 432x288 with 1 Axes>"
            ],
            "image/png": "[encoded data removed]"
          },
          "metadata": {
            "needs_background": "light"
          }
        }
      ]
    },
    {
      "cell_type": "code",
      "source": [
        "# r-square calculate\n",
        "test_input_fit2 = np.c_[test_input, test_input**2] # change input to fit in model2\n",
        "\n",
        "# prediction of test_input\n",
        "y_pred = model2.predict(test_input_fit2)\n",
        "\n",
        "# 잔차 구하기\n",
        "y_mean = np.mean(test_target) # y 평균값\n",
        "\n",
        "# $\\sum(y 예측값 - y 평균값)^2$ = 예측값에 대한 편차\n",
        "nomerator = np.sum(np.square(test_target - y_pred)) \n",
        "\n",
        "# $sum(y 관측값 - y 평균값)^2$\n",
        "denominator = np.sum(np.square(test_target - y_mean))\n",
        "r2 = 1 - nomerator / denominator\n",
        "r2"
      ],
      "metadata": {
        "colab": {
          "base_uri": "https://localhost:8080/"
        },
        "id": "3dh2ktuN7vQM",
        "outputId": "bbc6a92f-1611-4a13-9394-c7c64f5c2696"
      },
      "execution_count": 21,
      "outputs": [
        {
          "output_type": "execute_result",
          "data": {
            "text/plain": [
              "0.7164510429890454"
            ]
          },
          "metadata": {},
          "execution_count": 21
        }
      ]
    },
    {
      "cell_type": "markdown",
      "source": [
        "* Accuracy : 71%"
      ],
      "metadata": {
        "id": "FmmWUoZ8_KO0"
      }
    },
    {
      "cell_type": "markdown",
      "source": [
        "**3차식 선형회귀**"
      ],
      "metadata": {
        "id": "kA6GJ9Ahlyc4"
      }
    },
    {
      "cell_type": "code",
      "source": [
        "x3 = np.c_[train_input, train_input**2, train_input**3]\n",
        "y3 = train_target\n",
        "\n",
        "model3 = LinearRegression()\n",
        "model3.fit(x3, y3)\n",
        "\n",
        "model3.coef_, model3.intercept_"
      ],
      "metadata": {
        "colab": {
          "base_uri": "https://localhost:8080/"
        },
        "id": "BsXq5yAfld5u",
        "outputId": "19eae4ba-2007-4136-d890-28159398d904"
      },
      "execution_count": 22,
      "outputs": [
        {
          "output_type": "execute_result",
          "data": {
            "text/plain": [
              "(array([-3.42794783e+01, -2.55748982e-01,  2.61290113e-05]), 3392068.281986454)"
            ]
          },
          "metadata": {},
          "execution_count": 22
        }
      ]
    },
    {
      "cell_type": "code",
      "source": [
        "xs3 = np.arange(1,max(train_input)+1)\n",
        "ys3 = xs3*model3.coef_[0] + (xs3**2)*model3.coef_[1] + (xs3**3)*model3.coef_[2] + model3.intercept_\n",
        "\n",
        "plt.scatter(train_input, train_target, alpha=0.3)\n",
        "plt.plot(xs3,ys3,'r-',lw=3)"
      ],
      "metadata": {
        "colab": {
          "base_uri": "https://localhost:8080/",
          "height": 294
        },
        "id": "Kijbf20_mAid",
        "outputId": "4662af73-7132-4b9d-f8a5-74565f17ff53"
      },
      "execution_count": 23,
      "outputs": [
        {
          "output_type": "execute_result",
          "data": {
            "text/plain": [
              "[<matplotlib.lines.Line2D at 0x7f57f1ad59d0>]"
            ]
          },
          "metadata": {},
          "execution_count": 23
        },
        {
          "output_type": "display_data",
          "data": {
            "text/plain": [
              "<Figure size 432x288 with 1 Axes>"
            ],
            "image/png": "[encoded data removed]"
          },
          "metadata": {
            "needs_background": "light"
          }
        }
      ]
    },
    {
      "cell_type": "code",
      "source": [
        "# r-square calculate\n",
        "test_input_fit3 = np.c_[test_input, test_input**2, test_input**3] # change input to fit in model3\n",
        "\n",
        "# prediction of test_input\n",
        "y_pred = model3.predict(test_input_fit3)\n",
        "\n",
        "# 잔차 구하기\n",
        "y_mean = np.mean(test_target) # y 평균값\n",
        "\n",
        "# $\\sum(y 예측값 - y 평균값)^2$ = 예측값에 대한 편차\n",
        "nomerator = np.sum(np.square(test_target - y_pred)) \n",
        "\n",
        "# $sum(y 관측값 - y 평균값)^2$\n",
        "denominator = np.sum(np.square(test_target - y_mean))\n",
        "r2 = 1 - nomerator / denominator\n",
        "r2"
      ],
      "metadata": {
        "colab": {
          "base_uri": "https://localhost:8080/"
        },
        "id": "Hl54ZpLymSgZ",
        "outputId": "ed695604-d876-47af-b5e8-bd4abaedf56c"
      },
      "execution_count": 24,
      "outputs": [
        {
          "output_type": "execute_result",
          "data": {
            "text/plain": [
              "0.8080058892748657"
            ]
          },
          "metadata": {},
          "execution_count": 24
        }
      ]
    },
    {
      "cell_type": "markdown",
      "source": [
        "* Accuracy : 80%"
      ],
      "metadata": {
        "id": "SEK058e-_I1f"
      }
    },
    {
      "cell_type": "code",
      "source": [],
      "metadata": {
        "id": "jP1BjZmNndBg"
      },
      "execution_count": null,
      "outputs": []
    }
  ]
}