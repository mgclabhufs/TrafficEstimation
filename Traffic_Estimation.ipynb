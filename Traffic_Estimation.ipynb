{
  "nbformat": 4,
  "nbformat_minor": 0,
  "metadata": {
    "colab": {
      "provenance": [],
      "collapsed_sections": [
        "zew5xnbM3IK5"
      ]
    },
    "kernelspec": {
      "name": "python3",
      "display_name": "Python 3"
    },
    "language_info": {
      "name": "python"
    }
  },
  "cells": [
    {
      "cell_type": "code",
      "execution_count": null,
      "metadata": {
        "colab": {
          "base_uri": "https://localhost:8080/"
        },
        "id": "_MpZLd1sgYLR",
        "outputId": "dfbb3b76-7cf7-4f71-93ea-23efe3085030"
      },
      "outputs": [
        {
          "output_type": "stream",
          "name": "stdout",
          "text": [
            "Mounted at /content/drive\n"
          ]
        }
      ],
      "source": [
        "from google.colab import drive\n",
        "drive.mount('/content/drive') # Mount with Google Drive"
      ]
    },
    {
      "cell_type": "code",
      "source": [
        "cd drive/MyDrive/22Project/"
      ],
      "metadata": {
        "colab": {
          "base_uri": "https://localhost:8080/"
        },
        "id": "_YA7O19agd19",
        "outputId": "2da1d40b-0a62-4459-a6df-e01f421984f5"
      },
      "execution_count": null,
      "outputs": [
        {
          "output_type": "stream",
          "name": "stdout",
          "text": [
            "/content/drive/MyDrive/22Project\n"
          ]
        }
      ]
    },
    {
      "cell_type": "code",
      "source": [
        "ls"
      ],
      "metadata": {
        "colab": {
          "base_uri": "https://localhost:8080/"
        },
        "id": "eXBSoMQIjsyK",
        "outputId": "e9294b4c-26a3-4160-8b2d-131e79aced12"
      },
      "execution_count": null,
      "outputs": [
        {
          "output_type": "stream",
          "name": "stdout",
          "text": [
            " DataFlow_thruput.csv  'Traffic Estimation'\n",
            " newDataset.csv        'Traffic Estimation with dataflow.ipynb'\n",
            " packetFlow.csv\n"
          ]
        }
      ]
    },
    {
      "cell_type": "code",
      "source": [
        "#MODULES THAT WILL Be USED\n",
        "from sklearn.model_selection import train_test_split # To seperate train set and test set\n",
        "from sklearn.linear_model import LinearRegression # To use linear regression\n",
        "from sklearn.preprocessing import PolynomialFeatures\n",
        "import numpy as np # for linear algebra\n",
        "import pandas as pd # data processing, CSV file I/O\n",
        "import matplotlib.pyplot as plt # to show data scatter, pgraph\n",
        "import seaborn as sns\n",
        "%matplotlib inline"
      ],
      "metadata": {
        "id": "Y4JvEseWhHwb"
      },
      "execution_count": null,
      "outputs": []
    },
    {
      "cell_type": "markdown",
      "source": [
        "---\n",
        "\n",
        "# (BEFORE) Extract each packet's information (not flow)"
      ],
      "metadata": {
        "id": "zew5xnbM3IK5"
      }
    },
    {
      "cell_type": "code",
      "source": [
        "filename = '/content/drive/MyDrive/22Project/newDataset.csv' # This file has each packet's info not flow.\n",
        "pktData = pd.read_csv(filename, delimiter=',', encoding = \"ISO-8859-1\", nrows = 2000) # read .csv file\n",
        "# 너무 많아서 2000개만 선정.\n",
        "pktData.dataframeName = 'newDataset.csv'\n",
        "nRow, nCol = pktData.shape # number of row and column\n",
        "print(f'There are {nRow} rows and {nCol} columns')"
      ],
      "metadata": {
        "colab": {
          "base_uri": "https://localhost:8080/"
        },
        "id": "c2P5R-mchBah",
        "outputId": "2d882487-cf0e-45ee-9ce8-8327a2af8082"
      },
      "execution_count": null,
      "outputs": [
        {
          "output_type": "stream",
          "name": "stdout",
          "text": [
            "There are 2000 rows and 11 columns\n"
          ]
        }
      ]
    },
    {
      "cell_type": "code",
      "source": [
        "# captured counts graphs for each column data (except Number, Info, Time)\n",
        "def distributionGraphPerColumn(df, nGraphShown, nGraphPerRow):\n",
        "    # filtering\n",
        "    nunique = df.nunique() # nunique : 각 열마다 겹치지 않는 속성의 개수를 센다.\n",
        "    df = df[[col for col in df if nunique[col] > 1 and nunique[col] < 182]] \n",
        "\n",
        "    nRow, nCol = df.shape # 유용한 column의 행과 열\n",
        "    columnNames = list(df) # 각 열의 이름 추출\n",
        "    nGraphRow = (nCol + nGraphPerRow - 1) / nGraphPerRow\n",
        "    plt.figure(num = None, figsize = (6 * nGraphPerRow, 8 * nGraphRow), dpi = 80, facecolor = 'w', edgecolor = 'k')\n",
        "    for i in range(min(nCol, nGraphShown)):\n",
        "        plt.subplot(nGraphRow, nGraphPerRow, i + 1)\n",
        "        columnDf = df.iloc[:, i]\n",
        "        if (not np.issubdtype(type(columnDf.iloc[0]), np.number)):\n",
        "            valueCounts = columnDf.value_counts()\n",
        "            valueCounts.plot.bar()\n",
        "        else:\n",
        "            columnDf.hist()\n",
        "        plt.ylabel('counts')\n",
        "        plt.xticks(rotation = 90)\n",
        "        plt.title(f'{columnNames[i]} (column {i})')\n",
        "    plt.tight_layout(pad = 1.0, w_pad = 1.0, h_pad = 1.0)\n",
        "    plt.show()"
      ],
      "metadata": {
        "id": "FoVntE2M1f78"
      },
      "execution_count": null,
      "outputs": []
    },
    {
      "cell_type": "code",
      "source": [
        "pktData.head(5) # 위에 5개 정보 예시로 보이기"
      ],
      "metadata": {
        "colab": {
          "base_uri": "https://localhost:8080/",
          "height": 354
        },
        "id": "7QVu_U2ShFh2",
        "outputId": "31f698a9-1915-457c-98f8-37da1d8fba3b"
      },
      "execution_count": null,
      "outputs": [
        {
          "output_type": "execute_result",
          "data": {
            "text/plain": [
              "   No.                            Timestamp     Source IP Destination IP  \\\n",
              "0    1  Nov 20, 2022 19:30:04.006900000 WIT  192.168.0.38  66.22.228.211   \n",
              "1    2  Nov 20, 2022 19:30:04.006928000 WIT  192.168.0.38  66.22.228.211   \n",
              "2    3  Nov 20, 2022 19:30:04.006930000 WIT  192.168.0.38  66.22.228.211   \n",
              "3    4  Nov 20, 2022 19:30:04.006940000 WIT  192.168.0.38  66.22.228.211   \n",
              "4    5  Nov 20, 2022 19:30:04.006949000 WIT  192.168.0.38  66.22.228.211   \n",
              "\n",
              "   Source Port  Destination Port Protocol  Length      Time  \\\n",
              "0      51186.0           50001.0      UDP    1220  0.000000   \n",
              "1      51186.0           50001.0      UDP    1220  0.000028   \n",
              "2      51186.0           50001.0      UDP    1220  0.000030   \n",
              "3      51186.0           50001.0      UDP    1220  0.000040   \n",
              "4      51186.0           50001.0      UDP    1220  0.000049   \n",
              "\n",
              "   Time since previous frame                      Info  \n",
              "0                   0.000000  51186  >  50001 Len=1178  \n",
              "1                   0.000028  51186  >  50001 Len=1178  \n",
              "2                   0.000002  51186  >  50001 Len=1178  \n",
              "3                   0.000010  51186  >  50001 Len=1178  \n",
              "4                   0.000009  51186  >  50001 Len=1178  "
            ],
            "text/html": [
              "\n",
              "  <div id=\"df-43e98f09-3b75-4990-8a1f-bb313fb60cde\">\n",
              "    <div class=\"colab-df-container\">\n",
              "      <div>\n",
              "<style scoped>\n",
              "    .dataframe tbody tr th:only-of-type {\n",
              "        vertical-align: middle;\n",
              "    }\n",
              "\n",
              "    .dataframe tbody tr th {\n",
              "        vertical-align: top;\n",
              "    }\n",
              "\n",
              "    .dataframe thead th {\n",
              "        text-align: right;\n",
              "    }\n",
              "</style>\n",
              "<table border=\"1\" class=\"dataframe\">\n",
              "  <thead>\n",
              "    <tr style=\"text-align: right;\">\n",
              "      <th></th>\n",
              "      <th>No.</th>\n",
              "      <th>Timestamp</th>\n",
              "      <th>Source IP</th>\n",
              "      <th>Destination IP</th>\n",
              "      <th>Source Port</th>\n",
              "      <th>Destination Port</th>\n",
              "      <th>Protocol</th>\n",
              "      <th>Length</th>\n",
              "      <th>Time</th>\n",
              "      <th>Time since previous frame</th>\n",
              "      <th>Info</th>\n",
              "    </tr>\n",
              "  </thead>\n",
              "  <tbody>\n",
              "    <tr>\n",
              "      <th>0</th>\n",
              "      <td>1</td>\n",
              "      <td>Nov 20, 2022 19:30:04.006900000 WIT</td>\n",
              "      <td>192.168.0.38</td>\n",
              "      <td>66.22.228.211</td>\n",
              "      <td>51186.0</td>\n",
              "      <td>50001.0</td>\n",
              "      <td>UDP</td>\n",
              "      <td>1220</td>\n",
              "      <td>0.000000</td>\n",
              "      <td>0.000000</td>\n",
              "      <td>51186  &gt;  50001 Len=1178</td>\n",
              "    </tr>\n",
              "    <tr>\n",
              "      <th>1</th>\n",
              "      <td>2</td>\n",
              "      <td>Nov 20, 2022 19:30:04.006928000 WIT</td>\n",
              "      <td>192.168.0.38</td>\n",
              "      <td>66.22.228.211</td>\n",
              "      <td>51186.0</td>\n",
              "      <td>50001.0</td>\n",
              "      <td>UDP</td>\n",
              "      <td>1220</td>\n",
              "      <td>0.000028</td>\n",
              "      <td>0.000028</td>\n",
              "      <td>51186  &gt;  50001 Len=1178</td>\n",
              "    </tr>\n",
              "    <tr>\n",
              "      <th>2</th>\n",
              "      <td>3</td>\n",
              "      <td>Nov 20, 2022 19:30:04.006930000 WIT</td>\n",
              "      <td>192.168.0.38</td>\n",
              "      <td>66.22.228.211</td>\n",
              "      <td>51186.0</td>\n",
              "      <td>50001.0</td>\n",
              "      <td>UDP</td>\n",
              "      <td>1220</td>\n",
              "      <td>0.000030</td>\n",
              "      <td>0.000002</td>\n",
              "      <td>51186  &gt;  50001 Len=1178</td>\n",
              "    </tr>\n",
              "    <tr>\n",
              "      <th>3</th>\n",
              "      <td>4</td>\n",
              "      <td>Nov 20, 2022 19:30:04.006940000 WIT</td>\n",
              "      <td>192.168.0.38</td>\n",
              "      <td>66.22.228.211</td>\n",
              "      <td>51186.0</td>\n",
              "      <td>50001.0</td>\n",
              "      <td>UDP</td>\n",
              "      <td>1220</td>\n",
              "      <td>0.000040</td>\n",
              "      <td>0.000010</td>\n",
              "      <td>51186  &gt;  50001 Len=1178</td>\n",
              "    </tr>\n",
              "    <tr>\n",
              "      <th>4</th>\n",
              "      <td>5</td>\n",
              "      <td>Nov 20, 2022 19:30:04.006949000 WIT</td>\n",
              "      <td>192.168.0.38</td>\n",
              "      <td>66.22.228.211</td>\n",
              "      <td>51186.0</td>\n",
              "      <td>50001.0</td>\n",
              "      <td>UDP</td>\n",
              "      <td>1220</td>\n",
              "      <td>0.000049</td>\n",
              "      <td>0.000009</td>\n",
              "      <td>51186  &gt;  50001 Len=1178</td>\n",
              "    </tr>\n",
              "  </tbody>\n",
              "</table>\n",
              "</div>\n",
              "      <button class=\"colab-df-convert\" onclick=\"convertToInteractive('df-43e98f09-3b75-4990-8a1f-bb313fb60cde')\"\n",
              "              title=\"Convert this dataframe to an interactive table.\"\n",
              "              style=\"display:none;\">\n",
              "        \n",
              "  <svg xmlns=\"http://www.w3.org/2000/svg\" height=\"24px\"viewBox=\"0 0 24 24\"\n",
              "       width=\"24px\">\n",
              "    <path d=\"M0 0h24v24H0V0z\" fill=\"none\"/>\n",
              "    <path d=\"M18.56 5.44l.94 2.06.94-2.06 2.06-.94-2.06-.94-.94-2.06-.94 2.06-2.06.94zm-11 1L8.5 8.5l.94-2.06 2.06-.94-2.06-.94L8.5 2.5l-.94 2.06-2.06.94zm10 10l.94 2.06.94-2.06 2.06-.94-2.06-.94-.94-2.06-.94 2.06-2.06.94z\"/><path d=\"M17.41 7.96l-1.37-1.37c-.4-.4-.92-.59-1.43-.59-.52 0-1.04.2-1.43.59L10.3 9.45l-7.72 7.72c-.78.78-.78 2.05 0 2.83L4 21.41c.39.39.9.59 1.41.59.51 0 1.02-.2 1.41-.59l7.78-7.78 2.81-2.81c.8-.78.8-2.07 0-2.86zM5.41 20L4 18.59l7.72-7.72 1.47 1.35L5.41 20z\"/>\n",
              "  </svg>\n",
              "      </button>\n",
              "      \n",
              "  <style>\n",
              "    .colab-df-container {\n",
              "      display:flex;\n",
              "      flex-wrap:wrap;\n",
              "      gap: 12px;\n",
              "    }\n",
              "\n",
              "    .colab-df-convert {\n",
              "      background-color: #E8F0FE;\n",
              "      border: none;\n",
              "      border-radius: 50%;\n",
              "      cursor: pointer;\n",
              "      display: none;\n",
              "      fill: #1967D2;\n",
              "      height: 32px;\n",
              "      padding: 0 0 0 0;\n",
              "      width: 32px;\n",
              "    }\n",
              "\n",
              "    .colab-df-convert:hover {\n",
              "      background-color: #E2EBFA;\n",
              "      box-shadow: 0px 1px 2px rgba(60, 64, 67, 0.3), 0px 1px 3px 1px rgba(60, 64, 67, 0.15);\n",
              "      fill: #174EA6;\n",
              "    }\n",
              "\n",
              "    [theme=dark] .colab-df-convert {\n",
              "      background-color: #3B4455;\n",
              "      fill: #D2E3FC;\n",
              "    }\n",
              "\n",
              "    [theme=dark] .colab-df-convert:hover {\n",
              "      background-color: #434B5C;\n",
              "      box-shadow: 0px 1px 3px 1px rgba(0, 0, 0, 0.15);\n",
              "      filter: drop-shadow(0px 1px 2px rgba(0, 0, 0, 0.3));\n",
              "      fill: #FFFFFF;\n",
              "    }\n",
              "  </style>\n",
              "\n",
              "      <script>\n",
              "        const buttonEl =\n",
              "          document.querySelector('#df-43e98f09-3b75-4990-8a1f-bb313fb60cde button.colab-df-convert');\n",
              "        buttonEl.style.display =\n",
              "          google.colab.kernel.accessAllowed ? 'block' : 'none';\n",
              "\n",
              "        async function convertToInteractive(key) {\n",
              "          const element = document.querySelector('#df-43e98f09-3b75-4990-8a1f-bb313fb60cde');\n",
              "          const dataTable =\n",
              "            await google.colab.kernel.invokeFunction('convertToInteractive',\n",
              "                                                     [key], {});\n",
              "          if (!dataTable) return;\n",
              "\n",
              "          const docLinkHtml = 'Like what you see? Visit the ' +\n",
              "            '<a target=\"_blank\" href=https://colab.research.google.com/notebooks/data_table.ipynb>data table notebook</a>'\n",
              "            + ' to learn more about interactive tables.';\n",
              "          element.innerHTML = '';\n",
              "          dataTable['output_type'] = 'display_data';\n",
              "          await google.colab.output.renderOutput(dataTable, element);\n",
              "          const docLink = document.createElement('div');\n",
              "          docLink.innerHTML = docLinkHtml;\n",
              "          element.appendChild(docLink);\n",
              "        }\n",
              "      </script>\n",
              "    </div>\n",
              "  </div>\n",
              "  "
            ]
          },
          "metadata": {},
          "execution_count": 62
        }
      ]
    },
    {
      "cell_type": "code",
      "source": [
        "distributionGraphPerColumn(pktData, 6, 3)"
      ],
      "metadata": {
        "colab": {
          "base_uri": "https://localhost:8080/",
          "height": 1000
        },
        "id": "uaUIkbV18A9Q",
        "outputId": "5e471ba6-a1cd-4fe8-fc8a-3bd1ad3e65c8"
      },
      "execution_count": null,
      "outputs": [
        {
          "output_type": "display_data",
          "data": {
            "text/plain": [
              "<Figure size 1440x1706.67 with 6 Axes>"
            ],
            "image/png": "[encoded data removed]"
          },
          "metadata": {}
        }
      ]
    },
    {
      "cell_type": "markdown",
      "source": [
        "\n",
        "\n",
        "---\n",
        "\n",
        "# Extract Packet's Flow Data and Preprocessing\n",
        "\n",
        "Fill NAN value in 0 for every column -> NAN value disturb model learning\n"
      ],
      "metadata": {
        "id": "4d-TOEKZj3rB"
      }
    },
    {
      "cell_type": "code",
      "source": [
        "# DATA EXTRACT\n",
        "\n",
        "flowFilename = '/content/drive/MyDrive/22Project/DataFlow_thruput.csv' \n",
        "# This is packet's flow data from wireshark conversations.\n",
        "# I copied and store in csv file.\n",
        "# This has S/D IP, Port, Protocol(UDP or TCP), Packet bytes (In flow), throughput(S->D, D->S), Duration\n",
        "flowData = pd.read_csv(flowFilename, delimiter = ',', encoding = \"ISO-8859-1\")\n",
        "flowData.dataframeName = 'DataFlow_thruput.csv'\n",
        "row, col = flowData.shape\n",
        "print(f'There are {row} rows and {col} columns')"
      ],
      "metadata": {
        "colab": {
          "base_uri": "https://localhost:8080/"
        },
        "id": "xd1ijQ2Sj3i7",
        "outputId": "565ab006-2ddb-4dfc-a052-e5b51a6d94c1"
      },
      "execution_count": null,
      "outputs": [
        {
          "output_type": "stream",
          "name": "stdout",
          "text": [
            "There are 2929 rows and 16 columns\n"
          ]
        }
      ]
    },
    {
      "cell_type": "code",
      "source": [
        "# 5 DATA FORM EXAMPLE (TO CHECK COLUMN)\n",
        "\n",
        "flowData.head(5)"
      ],
      "metadata": {
        "colab": {
          "base_uri": "https://localhost:8080/",
          "height": 288
        },
        "id": "0oTXWOu0kQMi",
        "outputId": "ca416ba1-2d33-4dc8-ae22-9c59bd9eb1f8"
      },
      "execution_count": null,
      "outputs": [
        {
          "output_type": "execute_result",
          "data": {
            "text/plain": [
              "                   Source IP  Source Port Destination IP  Destinatino Port  \\\n",
              "0               192.168.0.38        51186  66.22.228.211             50001   \n",
              "1               192.168.0.54         5353    224.0.0.251              5353   \n",
              "2  fe80::10ea:5b59:7fe5:b963         5353       ff02::fb              5353   \n",
              "3               192.168.0.15         5353    224.0.0.251              5353   \n",
              "4  fe80::104b:82fd:b8fa:a3d6         5353       ff02::fb              5353   \n",
              "\n",
              "  Protocol  Num_pkts     Bytes  Stream ID  StoD Num_pkts  StoD bytes  \\\n",
              "0      UDP     15776  18012247          0          15115    17936733   \n",
              "1      UDP       315     93246          1            315       93246   \n",
              "2      UDP       314     99721          2            314       99721   \n",
              "3      UDP       922    277533          3            922      277533   \n",
              "4      UDP       924    296433          4            924      296433   \n",
              "\n",
              "   DtoS Num_pkts  DtoS bytes  Captured Time     Duration  StoD bits/sec  \\\n",
              "0            661       75514       0.000000    53.536196      2680314.0   \n",
              "1              0           0       0.060194  5013.060049          148.0   \n",
              "2              0           0       0.060195  5013.060049          159.0   \n",
              "3              0           0       0.162717  3204.244787          692.0   \n",
              "4              0           0       0.162717  3204.244788          740.0   \n",
              "\n",
              "   DtoS bits/sec  \n",
              "0        11284.0  \n",
              "1            0.0  \n",
              "2            0.0  \n",
              "3            0.0  \n",
              "4            0.0  "
            ],
            "text/html": [
              "\n",
              "  <div id=\"df-f6ebd136-cc70-4414-8552-65269d42e14a\">\n",
              "    <div class=\"colab-df-container\">\n",
              "      <div>\n",
              "<style scoped>\n",
              "    .dataframe tbody tr th:only-of-type {\n",
              "        vertical-align: middle;\n",
              "    }\n",
              "\n",
              "    .dataframe tbody tr th {\n",
              "        vertical-align: top;\n",
              "    }\n",
              "\n",
              "    .dataframe thead th {\n",
              "        text-align: right;\n",
              "    }\n",
              "</style>\n",
              "<table border=\"1\" class=\"dataframe\">\n",
              "  <thead>\n",
              "    <tr style=\"text-align: right;\">\n",
              "      <th></th>\n",
              "      <th>Source IP</th>\n",
              "      <th>Source Port</th>\n",
              "      <th>Destination IP</th>\n",
              "      <th>Destinatino Port</th>\n",
              "      <th>Protocol</th>\n",
              "      <th>Num_pkts</th>\n",
              "      <th>Bytes</th>\n",
              "      <th>Stream ID</th>\n",
              "      <th>StoD Num_pkts</th>\n",
              "      <th>StoD bytes</th>\n",
              "      <th>DtoS Num_pkts</th>\n",
              "      <th>DtoS bytes</th>\n",
              "      <th>Captured Time</th>\n",
              "      <th>Duration</th>\n",
              "      <th>StoD bits/sec</th>\n",
              "      <th>DtoS bits/sec</th>\n",
              "    </tr>\n",
              "  </thead>\n",
              "  <tbody>\n",
              "    <tr>\n",
              "      <th>0</th>\n",
              "      <td>192.168.0.38</td>\n",
              "      <td>51186</td>\n",
              "      <td>66.22.228.211</td>\n",
              "      <td>50001</td>\n",
              "      <td>UDP</td>\n",
              "      <td>15776</td>\n",
              "      <td>18012247</td>\n",
              "      <td>0</td>\n",
              "      <td>15115</td>\n",
              "      <td>17936733</td>\n",
              "      <td>661</td>\n",
              "      <td>75514</td>\n",
              "      <td>0.000000</td>\n",
              "      <td>53.536196</td>\n",
              "      <td>2680314.0</td>\n",
              "      <td>11284.0</td>\n",
              "    </tr>\n",
              "    <tr>\n",
              "      <th>1</th>\n",
              "      <td>192.168.0.54</td>\n",
              "      <td>5353</td>\n",
              "      <td>224.0.0.251</td>\n",
              "      <td>5353</td>\n",
              "      <td>UDP</td>\n",
              "      <td>315</td>\n",
              "      <td>93246</td>\n",
              "      <td>1</td>\n",
              "      <td>315</td>\n",
              "      <td>93246</td>\n",
              "      <td>0</td>\n",
              "      <td>0</td>\n",
              "      <td>0.060194</td>\n",
              "      <td>5013.060049</td>\n",
              "      <td>148.0</td>\n",
              "      <td>0.0</td>\n",
              "    </tr>\n",
              "    <tr>\n",
              "      <th>2</th>\n",
              "      <td>fe80::10ea:5b59:7fe5:b963</td>\n",
              "      <td>5353</td>\n",
              "      <td>ff02::fb</td>\n",
              "      <td>5353</td>\n",
              "      <td>UDP</td>\n",
              "      <td>314</td>\n",
              "      <td>99721</td>\n",
              "      <td>2</td>\n",
              "      <td>314</td>\n",
              "      <td>99721</td>\n",
              "      <td>0</td>\n",
              "      <td>0</td>\n",
              "      <td>0.060195</td>\n",
              "      <td>5013.060049</td>\n",
              "      <td>159.0</td>\n",
              "      <td>0.0</td>\n",
              "    </tr>\n",
              "    <tr>\n",
              "      <th>3</th>\n",
              "      <td>192.168.0.15</td>\n",
              "      <td>5353</td>\n",
              "      <td>224.0.0.251</td>\n",
              "      <td>5353</td>\n",
              "      <td>UDP</td>\n",
              "      <td>922</td>\n",
              "      <td>277533</td>\n",
              "      <td>3</td>\n",
              "      <td>922</td>\n",
              "      <td>277533</td>\n",
              "      <td>0</td>\n",
              "      <td>0</td>\n",
              "      <td>0.162717</td>\n",
              "      <td>3204.244787</td>\n",
              "      <td>692.0</td>\n",
              "      <td>0.0</td>\n",
              "    </tr>\n",
              "    <tr>\n",
              "      <th>4</th>\n",
              "      <td>fe80::104b:82fd:b8fa:a3d6</td>\n",
              "      <td>5353</td>\n",
              "      <td>ff02::fb</td>\n",
              "      <td>5353</td>\n",
              "      <td>UDP</td>\n",
              "      <td>924</td>\n",
              "      <td>296433</td>\n",
              "      <td>4</td>\n",
              "      <td>924</td>\n",
              "      <td>296433</td>\n",
              "      <td>0</td>\n",
              "      <td>0</td>\n",
              "      <td>0.162717</td>\n",
              "      <td>3204.244788</td>\n",
              "      <td>740.0</td>\n",
              "      <td>0.0</td>\n",
              "    </tr>\n",
              "  </tbody>\n",
              "</table>\n",
              "</div>\n",
              "      <button class=\"colab-df-convert\" onclick=\"convertToInteractive('df-f6ebd136-cc70-4414-8552-65269d42e14a')\"\n",
              "              title=\"Convert this dataframe to an interactive table.\"\n",
              "              style=\"display:none;\">\n",
              "        \n",
              "  <svg xmlns=\"http://www.w3.org/2000/svg\" height=\"24px\"viewBox=\"0 0 24 24\"\n",
              "       width=\"24px\">\n",
              "    <path d=\"M0 0h24v24H0V0z\" fill=\"none\"/>\n",
              "    <path d=\"M18.56 5.44l.94 2.06.94-2.06 2.06-.94-2.06-.94-.94-2.06-.94 2.06-2.06.94zm-11 1L8.5 8.5l.94-2.06 2.06-.94-2.06-.94L8.5 2.5l-.94 2.06-2.06.94zm10 10l.94 2.06.94-2.06 2.06-.94-2.06-.94-.94-2.06-.94 2.06-2.06.94z\"/><path d=\"M17.41 7.96l-1.37-1.37c-.4-.4-.92-.59-1.43-.59-.52 0-1.04.2-1.43.59L10.3 9.45l-7.72 7.72c-.78.78-.78 2.05 0 2.83L4 21.41c.39.39.9.59 1.41.59.51 0 1.02-.2 1.41-.59l7.78-7.78 2.81-2.81c.8-.78.8-2.07 0-2.86zM5.41 20L4 18.59l7.72-7.72 1.47 1.35L5.41 20z\"/>\n",
              "  </svg>\n",
              "      </button>\n",
              "      \n",
              "  <style>\n",
              "    .colab-df-container {\n",
              "      display:flex;\n",
              "      flex-wrap:wrap;\n",
              "      gap: 12px;\n",
              "    }\n",
              "\n",
              "    .colab-df-convert {\n",
              "      background-color: #E8F0FE;\n",
              "      border: none;\n",
              "      border-radius: 50%;\n",
              "      cursor: pointer;\n",
              "      display: none;\n",
              "      fill: #1967D2;\n",
              "      height: 32px;\n",
              "      padding: 0 0 0 0;\n",
              "      width: 32px;\n",
              "    }\n",
              "\n",
              "    .colab-df-convert:hover {\n",
              "      background-color: #E2EBFA;\n",
              "      box-shadow: 0px 1px 2px rgba(60, 64, 67, 0.3), 0px 1px 3px 1px rgba(60, 64, 67, 0.15);\n",
              "      fill: #174EA6;\n",
              "    }\n",
              "\n",
              "    [theme=dark] .colab-df-convert {\n",
              "      background-color: #3B4455;\n",
              "      fill: #D2E3FC;\n",
              "    }\n",
              "\n",
              "    [theme=dark] .colab-df-convert:hover {\n",
              "      background-color: #434B5C;\n",
              "      box-shadow: 0px 1px 3px 1px rgba(0, 0, 0, 0.15);\n",
              "      filter: drop-shadow(0px 1px 2px rgba(0, 0, 0, 0.3));\n",
              "      fill: #FFFFFF;\n",
              "    }\n",
              "  </style>\n",
              "\n",
              "      <script>\n",
              "        const buttonEl =\n",
              "          document.querySelector('#df-f6ebd136-cc70-4414-8552-65269d42e14a button.colab-df-convert');\n",
              "        buttonEl.style.display =\n",
              "          google.colab.kernel.accessAllowed ? 'block' : 'none';\n",
              "\n",
              "        async function convertToInteractive(key) {\n",
              "          const element = document.querySelector('#df-f6ebd136-cc70-4414-8552-65269d42e14a');\n",
              "          const dataTable =\n",
              "            await google.colab.kernel.invokeFunction('convertToInteractive',\n",
              "                                                     [key], {});\n",
              "          if (!dataTable) return;\n",
              "\n",
              "          const docLinkHtml = 'Like what you see? Visit the ' +\n",
              "            '<a target=\"_blank\" href=https://colab.research.google.com/notebooks/data_table.ipynb>data table notebook</a>'\n",
              "            + ' to learn more about interactive tables.';\n",
              "          element.innerHTML = '';\n",
              "          dataTable['output_type'] = 'display_data';\n",
              "          await google.colab.output.renderOutput(dataTable, element);\n",
              "          const docLink = document.createElement('div');\n",
              "          docLink.innerHTML = docLinkHtml;\n",
              "          element.appendChild(docLink);\n",
              "        }\n",
              "      </script>\n",
              "    </div>\n",
              "  </div>\n",
              "  "
            ]
          },
          "metadata": {},
          "execution_count": 6
        }
      ]
    },
    {
      "cell_type": "code",
      "source": [
        "flowData.isna().sum() # Count NAN value in each column"
      ],
      "metadata": {
        "colab": {
          "base_uri": "https://localhost:8080/"
        },
        "id": "jSy9uO4jdRhf",
        "outputId": "b731764c-3be2-4e40-c8d1-c925768f18c2"
      },
      "execution_count": null,
      "outputs": [
        {
          "output_type": "execute_result",
          "data": {
            "text/plain": [
              "Source IP             0\n",
              "Source Port           0\n",
              "Destination IP        0\n",
              "Destinatino Port      0\n",
              "Protocol              0\n",
              "Num_pkts              0\n",
              "Bytes                 0\n",
              "Stream ID             0\n",
              "StoD Num_pkts         0\n",
              "StoD bytes            0\n",
              "DtoS Num_pkts         0\n",
              "DtoS bytes            0\n",
              "Captured Time         0\n",
              "Duration              0\n",
              "StoD bits/sec       499\n",
              "DtoS bits/sec       499\n",
              "dtype: int64"
            ]
          },
          "metadata": {},
          "execution_count": 7
        }
      ]
    },
    {
      "cell_type": "code",
      "source": [
        "# Fill with 0 where column that has NAN value\n",
        "flowData['StoD bits/sec'] = flowData['StoD bits/sec'].fillna(0) \n",
        "flowData['DtoS bits/sec'] = flowData['DtoS bits/sec'].fillna(0)"
      ],
      "metadata": {
        "id": "iLUk6zRgdiEE"
      },
      "execution_count": null,
      "outputs": []
    },
    {
      "cell_type": "markdown",
      "source": [
        "# throughput per time [bits/sec]\n",
        "- 내 컴퓨터에서 발생하는 모든 throughput을 계산\n",
        "- 첫 flow의 시작 시간부터, 마지막 flow의 시간까지 측정.\n",
        "- 각 flow는 duration이 존재. 이 duration은 [sec]\n",
        "- flow시작 ~ duration이 끝나면 해당 throughput은 삭제해줘야함.\n",
        "- duration 안에 새로운 flow가 시작 : throughput을 더해준다."
      ],
      "metadata": {
        "id": "kfnGW1T-vat1"
      }
    },
    {
      "cell_type": "code",
      "source": [
        "flowData.head(5)"
      ],
      "metadata": {
        "colab": {
          "base_uri": "https://localhost:8080/",
          "height": 288
        },
        "id": "D2bP18hov7MP",
        "outputId": "b3d73e8a-56c2-441a-c3f2-606f54d118af"
      },
      "execution_count": null,
      "outputs": [
        {
          "output_type": "execute_result",
          "data": {
            "text/plain": [
              "                   Source IP  Source Port Destination IP  Destinatino Port  \\\n",
              "0               192.168.0.38        51186  66.22.228.211             50001   \n",
              "1               192.168.0.54         5353    224.0.0.251              5353   \n",
              "2  fe80::10ea:5b59:7fe5:b963         5353       ff02::fb              5353   \n",
              "3               192.168.0.15         5353    224.0.0.251              5353   \n",
              "4  fe80::104b:82fd:b8fa:a3d6         5353       ff02::fb              5353   \n",
              "\n",
              "  Protocol  Num_pkts     Bytes  Stream ID  StoD Num_pkts  StoD bytes  \\\n",
              "0      UDP     15776  18012247          0          15115    17936733   \n",
              "1      UDP       315     93246          1            315       93246   \n",
              "2      UDP       314     99721          2            314       99721   \n",
              "3      UDP       922    277533          3            922      277533   \n",
              "4      UDP       924    296433          4            924      296433   \n",
              "\n",
              "   DtoS Num_pkts  DtoS bytes  Captured Time     Duration  StoD bits/sec  \\\n",
              "0            661       75514       0.000000    53.536196      2680314.0   \n",
              "1              0           0       0.060194  5013.060049          148.0   \n",
              "2              0           0       0.060195  5013.060049          159.0   \n",
              "3              0           0       0.162717  3204.244787          692.0   \n",
              "4              0           0       0.162717  3204.244788          740.0   \n",
              "\n",
              "   DtoS bits/sec  \n",
              "0        11284.0  \n",
              "1            0.0  \n",
              "2            0.0  \n",
              "3            0.0  \n",
              "4            0.0  "
            ],
            "text/html": [
              "\n",
              "  <div id=\"df-c31fc1ee-f2ac-40a9-9f99-a89a25602fc7\">\n",
              "    <div class=\"colab-df-container\">\n",
              "      <div>\n",
              "<style scoped>\n",
              "    .dataframe tbody tr th:only-of-type {\n",
              "        vertical-align: middle;\n",
              "    }\n",
              "\n",
              "    .dataframe tbody tr th {\n",
              "        vertical-align: top;\n",
              "    }\n",
              "\n",
              "    .dataframe thead th {\n",
              "        text-align: right;\n",
              "    }\n",
              "</style>\n",
              "<table border=\"1\" class=\"dataframe\">\n",
              "  <thead>\n",
              "    <tr style=\"text-align: right;\">\n",
              "      <th></th>\n",
              "      <th>Source IP</th>\n",
              "      <th>Source Port</th>\n",
              "      <th>Destination IP</th>\n",
              "      <th>Destinatino Port</th>\n",
              "      <th>Protocol</th>\n",
              "      <th>Num_pkts</th>\n",
              "      <th>Bytes</th>\n",
              "      <th>Stream ID</th>\n",
              "      <th>StoD Num_pkts</th>\n",
              "      <th>StoD bytes</th>\n",
              "      <th>DtoS Num_pkts</th>\n",
              "      <th>DtoS bytes</th>\n",
              "      <th>Captured Time</th>\n",
              "      <th>Duration</th>\n",
              "      <th>StoD bits/sec</th>\n",
              "      <th>DtoS bits/sec</th>\n",
              "    </tr>\n",
              "  </thead>\n",
              "  <tbody>\n",
              "    <tr>\n",
              "      <th>0</th>\n",
              "      <td>192.168.0.38</td>\n",
              "      <td>51186</td>\n",
              "      <td>66.22.228.211</td>\n",
              "      <td>50001</td>\n",
              "      <td>UDP</td>\n",
              "      <td>15776</td>\n",
              "      <td>18012247</td>\n",
              "      <td>0</td>\n",
              "      <td>15115</td>\n",
              "      <td>17936733</td>\n",
              "      <td>661</td>\n",
              "      <td>75514</td>\n",
              "      <td>0.000000</td>\n",
              "      <td>53.536196</td>\n",
              "      <td>2680314.0</td>\n",
              "      <td>11284.0</td>\n",
              "    </tr>\n",
              "    <tr>\n",
              "      <th>1</th>\n",
              "      <td>192.168.0.54</td>\n",
              "      <td>5353</td>\n",
              "      <td>224.0.0.251</td>\n",
              "      <td>5353</td>\n",
              "      <td>UDP</td>\n",
              "      <td>315</td>\n",
              "      <td>93246</td>\n",
              "      <td>1</td>\n",
              "      <td>315</td>\n",
              "      <td>93246</td>\n",
              "      <td>0</td>\n",
              "      <td>0</td>\n",
              "      <td>0.060194</td>\n",
              "      <td>5013.060049</td>\n",
              "      <td>148.0</td>\n",
              "      <td>0.0</td>\n",
              "    </tr>\n",
              "    <tr>\n",
              "      <th>2</th>\n",
              "      <td>fe80::10ea:5b59:7fe5:b963</td>\n",
              "      <td>5353</td>\n",
              "      <td>ff02::fb</td>\n",
              "      <td>5353</td>\n",
              "      <td>UDP</td>\n",
              "      <td>314</td>\n",
              "      <td>99721</td>\n",
              "      <td>2</td>\n",
              "      <td>314</td>\n",
              "      <td>99721</td>\n",
              "      <td>0</td>\n",
              "      <td>0</td>\n",
              "      <td>0.060195</td>\n",
              "      <td>5013.060049</td>\n",
              "      <td>159.0</td>\n",
              "      <td>0.0</td>\n",
              "    </tr>\n",
              "    <tr>\n",
              "      <th>3</th>\n",
              "      <td>192.168.0.15</td>\n",
              "      <td>5353</td>\n",
              "      <td>224.0.0.251</td>\n",
              "      <td>5353</td>\n",
              "      <td>UDP</td>\n",
              "      <td>922</td>\n",
              "      <td>277533</td>\n",
              "      <td>3</td>\n",
              "      <td>922</td>\n",
              "      <td>277533</td>\n",
              "      <td>0</td>\n",
              "      <td>0</td>\n",
              "      <td>0.162717</td>\n",
              "      <td>3204.244787</td>\n",
              "      <td>692.0</td>\n",
              "      <td>0.0</td>\n",
              "    </tr>\n",
              "    <tr>\n",
              "      <th>4</th>\n",
              "      <td>fe80::104b:82fd:b8fa:a3d6</td>\n",
              "      <td>5353</td>\n",
              "      <td>ff02::fb</td>\n",
              "      <td>5353</td>\n",
              "      <td>UDP</td>\n",
              "      <td>924</td>\n",
              "      <td>296433</td>\n",
              "      <td>4</td>\n",
              "      <td>924</td>\n",
              "      <td>296433</td>\n",
              "      <td>0</td>\n",
              "      <td>0</td>\n",
              "      <td>0.162717</td>\n",
              "      <td>3204.244788</td>\n",
              "      <td>740.0</td>\n",
              "      <td>0.0</td>\n",
              "    </tr>\n",
              "  </tbody>\n",
              "</table>\n",
              "</div>\n",
              "      <button class=\"colab-df-convert\" onclick=\"convertToInteractive('df-c31fc1ee-f2ac-40a9-9f99-a89a25602fc7')\"\n",
              "              title=\"Convert this dataframe to an interactive table.\"\n",
              "              style=\"display:none;\">\n",
              "        \n",
              "  <svg xmlns=\"http://www.w3.org/2000/svg\" height=\"24px\"viewBox=\"0 0 24 24\"\n",
              "       width=\"24px\">\n",
              "    <path d=\"M0 0h24v24H0V0z\" fill=\"none\"/>\n",
              "    <path d=\"M18.56 5.44l.94 2.06.94-2.06 2.06-.94-2.06-.94-.94-2.06-.94 2.06-2.06.94zm-11 1L8.5 8.5l.94-2.06 2.06-.94-2.06-.94L8.5 2.5l-.94 2.06-2.06.94zm10 10l.94 2.06.94-2.06 2.06-.94-2.06-.94-.94-2.06-.94 2.06-2.06.94z\"/><path d=\"M17.41 7.96l-1.37-1.37c-.4-.4-.92-.59-1.43-.59-.52 0-1.04.2-1.43.59L10.3 9.45l-7.72 7.72c-.78.78-.78 2.05 0 2.83L4 21.41c.39.39.9.59 1.41.59.51 0 1.02-.2 1.41-.59l7.78-7.78 2.81-2.81c.8-.78.8-2.07 0-2.86zM5.41 20L4 18.59l7.72-7.72 1.47 1.35L5.41 20z\"/>\n",
              "  </svg>\n",
              "      </button>\n",
              "      \n",
              "  <style>\n",
              "    .colab-df-container {\n",
              "      display:flex;\n",
              "      flex-wrap:wrap;\n",
              "      gap: 12px;\n",
              "    }\n",
              "\n",
              "    .colab-df-convert {\n",
              "      background-color: #E8F0FE;\n",
              "      border: none;\n",
              "      border-radius: 50%;\n",
              "      cursor: pointer;\n",
              "      display: none;\n",
              "      fill: #1967D2;\n",
              "      height: 32px;\n",
              "      padding: 0 0 0 0;\n",
              "      width: 32px;\n",
              "    }\n",
              "\n",
              "    .colab-df-convert:hover {\n",
              "      background-color: #E2EBFA;\n",
              "      box-shadow: 0px 1px 2px rgba(60, 64, 67, 0.3), 0px 1px 3px 1px rgba(60, 64, 67, 0.15);\n",
              "      fill: #174EA6;\n",
              "    }\n",
              "\n",
              "    [theme=dark] .colab-df-convert {\n",
              "      background-color: #3B4455;\n",
              "      fill: #D2E3FC;\n",
              "    }\n",
              "\n",
              "    [theme=dark] .colab-df-convert:hover {\n",
              "      background-color: #434B5C;\n",
              "      box-shadow: 0px 1px 3px 1px rgba(0, 0, 0, 0.15);\n",
              "      filter: drop-shadow(0px 1px 2px rgba(0, 0, 0, 0.3));\n",
              "      fill: #FFFFFF;\n",
              "    }\n",
              "  </style>\n",
              "\n",
              "      <script>\n",
              "        const buttonEl =\n",
              "          document.querySelector('#df-c31fc1ee-f2ac-40a9-9f99-a89a25602fc7 button.colab-df-convert');\n",
              "        buttonEl.style.display =\n",
              "          google.colab.kernel.accessAllowed ? 'block' : 'none';\n",
              "\n",
              "        async function convertToInteractive(key) {\n",
              "          const element = document.querySelector('#df-c31fc1ee-f2ac-40a9-9f99-a89a25602fc7');\n",
              "          const dataTable =\n",
              "            await google.colab.kernel.invokeFunction('convertToInteractive',\n",
              "                                                     [key], {});\n",
              "          if (!dataTable) return;\n",
              "\n",
              "          const docLinkHtml = 'Like what you see? Visit the ' +\n",
              "            '<a target=\"_blank\" href=https://colab.research.google.com/notebooks/data_table.ipynb>data table notebook</a>'\n",
              "            + ' to learn more about interactive tables.';\n",
              "          element.innerHTML = '';\n",
              "          dataTable['output_type'] = 'display_data';\n",
              "          await google.colab.output.renderOutput(dataTable, element);\n",
              "          const docLink = document.createElement('div');\n",
              "          docLink.innerHTML = docLinkHtml;\n",
              "          element.appendChild(docLink);\n",
              "        }\n",
              "      </script>\n",
              "    </div>\n",
              "  </div>\n",
              "  "
            ]
          },
          "metadata": {},
          "execution_count": 9
        }
      ]
    },
    {
      "cell_type": "code",
      "source": [
        "thruputArr = np.array([]) # Y축이 될 배열\n",
        "starttimeArr = np.array([]) # X축이 될 배열\n",
        "\n",
        "eachThruput = np.array([])\n",
        "eachEndtimeArr = np.array([])\n",
        "currentThruput = 0.0\n",
        "\n",
        "'''\n",
        "1. 해당 flow의 throughput을 배열에 넣기 (A -> B 에서 sending bits만 생각한다.) : eachEndtimeArr[]\n",
        "2. 해당 flow의 종료 시간을 배열에 넣기 : eachThruput[]\n",
        "3. 현재 통용되고 있는 throughput을 변수에 더하기\n",
        "4. 해당 flow의 captured 시간보다 더 전에 종료 시간이 존재하면 해당 throughput은 삭제\n",
        "   그렇지 않은 index는 해당 정보를 다른 배열에 복사 cpTP[], cpTime[]\n",
        "5. eachEndtimeArr[] = cpTime[], eachThruput[] = cpTP[]\n",
        "'''\n",
        "\n",
        "for rowIdx, row in flowData.iterrows():\n",
        "  eachEndtimeArr = np.append(eachEndtimeArr, (row['Captured Time']+row['Duration'])) # 해당 row flow가 끝나는 시간 측정\n",
        "  eachThruput = np.append(eachThruput, row['StoD bits/sec']) # 해당 row flow의 throughput 측정 (Source to Destination)\n",
        "\n",
        "  currentThruput += row['StoD bits/sec'] # 이전 flow의 thruput에 현재 Row thruput을 더한 값. = 내 노트북에서 현재 일어나고 있는 throughput\n",
        "\n",
        "  starttimeArr = np.append(starttimeArr, row['Captured Time'])\n",
        "  # start time of the flow (to scatter graph) - x축으로 사용\n",
        "\n",
        "  cpTP = np.array([])\n",
        "  cpTime = np.array([])\n",
        "  # 이전 시간 flow는 빼고 생각할 거니까, 그것을 제외하고 갱신할 list 선언\n",
        "  for i in range(len(eachEndtimeArr)): # endtimeArr를 비교해줄 것임.\n",
        "    if eachEndtimeArr[i] < row['Captured Time']: # 현재 flow의 시간보다 전에 끝나는 시간을 갖고 있는 flow는,\n",
        "      currentThruput -= eachThruput[i] # 현재 thruput에서 그때의 flow를 제거.\n",
        "    else: # 만약 현재 flow 시간보다 더 오래 지속된다면,\n",
        "      cpTP = np.append(cpTP, eachThruput[i]) # 그 flow의 thruput과 time의 정보는 유지한다.\n",
        "      cpTime = np.append(cpTime, eachEndtimeArr[i])\n",
        "      # cpTime = eachEndtimeArr[i] // logical error line\n",
        "\n",
        "  # 삭제된 flow를 제외한 현재 on-flight 중인 flow들의 data 복사\n",
        "  eachThruput = cpTP \n",
        "  eachEndtimeArr = cpTime\n",
        "\n",
        "  thruputArr = np.append(thruputArr, currentThruput)"
      ],
      "metadata": {
        "id": "TyT-5DcFdg0j"
      },
      "execution_count": null,
      "outputs": []
    },
    {
      "cell_type": "code",
      "source": [
        "plt.xlabel('Time [sec]')\n",
        "plt.ylabel('Throughput [bits]')\n",
        "plt.scatter(starttimeArr, thruputArr)"
      ],
      "metadata": {
        "colab": {
          "base_uri": "https://localhost:8080/",
          "height": 308
        },
        "id": "hU5l1IJFgQPF",
        "outputId": "3cfe55e8-113c-4e8c-f80b-e075ebd05f0c"
      },
      "execution_count": null,
      "outputs": [
        {
          "output_type": "execute_result",
          "data": {
            "text/plain": [
              "<matplotlib.collections.PathCollection at 0x7f7e855d6a60>"
            ]
          },
          "metadata": {},
          "execution_count": 11
        },
        {
          "output_type": "display_data",
          "data": {
            "text/plain": [
              "<Figure size 432x288 with 1 Axes>"
            ],
            "image/png": "[encoded data removed]"
          },
          "metadata": {
            "needs_background": "light"
          }
        }
      ]
    },
    {
      "cell_type": "code",
      "source": [
        "# 위에서 test set과 train set을 분리.\n",
        "train_input, test_input, train_target, test_target = train_test_split(\n",
        "    starttimeArr, thruputArr, random_state=42)\n",
        "\n",
        "# 각 입력은 2차원 배열로 선언.\n",
        "train_input = train_input.reshape(-1,1)\n",
        "test_input = test_input.reshape(-1,1)"
      ],
      "metadata": {
        "id": "GYIFKG8viAf-"
      },
      "execution_count": null,
      "outputs": []
    },
    {
      "cell_type": "markdown",
      "source": [
        "**2차식 선형회귀**"
      ],
      "metadata": {
        "id": "0t7U4gtVls5L"
      }
    },
    {
      "cell_type": "code",
      "source": [
        "x = np.c_[train_input, train_input**2]\n",
        "y = train_target\n",
        "\n",
        "model2 = LinearRegression()\n",
        "model2.fit(x, y)\n",
        "\n",
        "model2.coef_, model2.intercept_"
      ],
      "metadata": {
        "colab": {
          "base_uri": "https://localhost:8080/"
        },
        "id": "QwTwR9RVkrKS",
        "outputId": "e4465a17-8c15-4232-8cb1-0b3d9829195c"
      },
      "execution_count": null,
      "outputs": [
        {
          "output_type": "execute_result",
          "data": {
            "text/plain": [
              "(array([-8.34360252e+02,  6.74455414e-02]), 3870614.439676348)"
            ]
          },
          "metadata": {},
          "execution_count": 47
        }
      ]
    },
    {
      "cell_type": "code",
      "source": [
        "xs = np.arange(1,max(train_input)+1)\n",
        "ys = xs*model2.coef_[0] + (xs**2)*model2.coef_[1] + model2.intercept_\n",
        "\n",
        "\n",
        "plt.scatter(train_input, train_target, alpha=0.3)\n",
        "plt.plot(xs,ys,'r-',lw=3)"
      ],
      "metadata": {
        "colab": {
          "base_uri": "https://localhost:8080/",
          "height": 294
        },
        "id": "9hnFXI7NlAnb",
        "outputId": "e77962f0-3244-4fb7-ccdd-f602e93b7f45"
      },
      "execution_count": null,
      "outputs": [
        {
          "output_type": "execute_result",
          "data": {
            "text/plain": [
              "[<matplotlib.lines.Line2D at 0x7f7e821e72e0>]"
            ]
          },
          "metadata": {},
          "execution_count": 48
        },
        {
          "output_type": "display_data",
          "data": {
            "text/plain": [
              "<Figure size 432x288 with 1 Axes>"
            ],
            "image/png": "[encoded data removed]"
          },
          "metadata": {
            "needs_background": "light"
          }
        }
      ]
    },
    {
      "cell_type": "code",
      "source": [
        "# 평가 방법 1 r-square 모듈 이용하기\n",
        "from sklearn.metrics import r2_score\n",
        "r2_score(test_target, model2.predict(test_input))"
      ],
      "metadata": {
        "colab": {
          "base_uri": "https://localhost:8080/",
          "height": 337
        },
        "id": "5oWihEBskXG8",
        "outputId": "2e6fe394-3e22-47a4-ca3c-d787e3e962d2"
      },
      "execution_count": null,
      "outputs": [
        {
          "output_type": "error",
          "ename": "ValueError",
          "evalue": "ignored",
          "traceback": [
            "\u001b[0;31m---------------------------------------------------------------------------\u001b[0m",
            "\u001b[0;31mValueError\u001b[0m                                Traceback (most recent call last)",
            "\u001b[0;32m<ipython-input-41-6bc6a864a935>\u001b[0m in \u001b[0;36m<module>\u001b[0;34m\u001b[0m\n\u001b[1;32m      1\u001b[0m \u001b[0;32mfrom\u001b[0m \u001b[0msklearn\u001b[0m\u001b[0;34m.\u001b[0m\u001b[0mmetrics\u001b[0m \u001b[0;32mimport\u001b[0m \u001b[0mr2_score\u001b[0m\u001b[0;34m\u001b[0m\u001b[0;34m\u001b[0m\u001b[0m\n\u001b[0;32m----> 2\u001b[0;31m \u001b[0mr2_score\u001b[0m\u001b[0;34m(\u001b[0m\u001b[0mtest_target\u001b[0m\u001b[0;34m,\u001b[0m \u001b[0mmodel2\u001b[0m\u001b[0;34m.\u001b[0m\u001b[0mpredict\u001b[0m\u001b[0;34m(\u001b[0m\u001b[0mtest_input\u001b[0m\u001b[0;34m)\u001b[0m\u001b[0;34m)\u001b[0m\u001b[0;34m\u001b[0m\u001b[0;34m\u001b[0m\u001b[0m\n\u001b[0m",
            "\u001b[0;32m/usr/local/lib/python3.8/dist-packages/sklearn/linear_model/_base.py\u001b[0m in \u001b[0;36mpredict\u001b[0;34m(self, X)\u001b[0m\n\u001b[1;32m    360\u001b[0m             \u001b[0mReturns\u001b[0m \u001b[0mpredicted\u001b[0m \u001b[0mvalues\u001b[0m\u001b[0;34m.\u001b[0m\u001b[0;34m\u001b[0m\u001b[0;34m\u001b[0m\u001b[0m\n\u001b[1;32m    361\u001b[0m         \"\"\"\n\u001b[0;32m--> 362\u001b[0;31m         \u001b[0;32mreturn\u001b[0m \u001b[0mself\u001b[0m\u001b[0;34m.\u001b[0m\u001b[0m_decision_function\u001b[0m\u001b[0;34m(\u001b[0m\u001b[0mX\u001b[0m\u001b[0;34m)\u001b[0m\u001b[0;34m\u001b[0m\u001b[0;34m\u001b[0m\u001b[0m\n\u001b[0m\u001b[1;32m    363\u001b[0m \u001b[0;34m\u001b[0m\u001b[0m\n\u001b[1;32m    364\u001b[0m     \u001b[0m_preprocess_data\u001b[0m \u001b[0;34m=\u001b[0m \u001b[0mstaticmethod\u001b[0m\u001b[0;34m(\u001b[0m\u001b[0m_preprocess_data\u001b[0m\u001b[0;34m)\u001b[0m\u001b[0;34m\u001b[0m\u001b[0;34m\u001b[0m\u001b[0m\n",
            "\u001b[0;32m/usr/local/lib/python3.8/dist-packages/sklearn/linear_model/_base.py\u001b[0m in \u001b[0;36m_decision_function\u001b[0;34m(self, X)\u001b[0m\n\u001b[1;32m    343\u001b[0m         \u001b[0mcheck_is_fitted\u001b[0m\u001b[0;34m(\u001b[0m\u001b[0mself\u001b[0m\u001b[0;34m)\u001b[0m\u001b[0;34m\u001b[0m\u001b[0;34m\u001b[0m\u001b[0m\n\u001b[1;32m    344\u001b[0m \u001b[0;34m\u001b[0m\u001b[0m\n\u001b[0;32m--> 345\u001b[0;31m         \u001b[0mX\u001b[0m \u001b[0;34m=\u001b[0m \u001b[0mself\u001b[0m\u001b[0;34m.\u001b[0m\u001b[0m_validate_data\u001b[0m\u001b[0;34m(\u001b[0m\u001b[0mX\u001b[0m\u001b[0;34m,\u001b[0m \u001b[0maccept_sparse\u001b[0m\u001b[0;34m=\u001b[0m\u001b[0;34m[\u001b[0m\u001b[0;34m\"csr\"\u001b[0m\u001b[0;34m,\u001b[0m \u001b[0;34m\"csc\"\u001b[0m\u001b[0;34m,\u001b[0m \u001b[0;34m\"coo\"\u001b[0m\u001b[0;34m]\u001b[0m\u001b[0;34m,\u001b[0m \u001b[0mreset\u001b[0m\u001b[0;34m=\u001b[0m\u001b[0;32mFalse\u001b[0m\u001b[0;34m)\u001b[0m\u001b[0;34m\u001b[0m\u001b[0;34m\u001b[0m\u001b[0m\n\u001b[0m\u001b[1;32m    346\u001b[0m         \u001b[0;32mreturn\u001b[0m \u001b[0msafe_sparse_dot\u001b[0m\u001b[0;34m(\u001b[0m\u001b[0mX\u001b[0m\u001b[0;34m,\u001b[0m \u001b[0mself\u001b[0m\u001b[0;34m.\u001b[0m\u001b[0mcoef_\u001b[0m\u001b[0;34m.\u001b[0m\u001b[0mT\u001b[0m\u001b[0;34m,\u001b[0m \u001b[0mdense_output\u001b[0m\u001b[0;34m=\u001b[0m\u001b[0;32mTrue\u001b[0m\u001b[0;34m)\u001b[0m \u001b[0;34m+\u001b[0m \u001b[0mself\u001b[0m\u001b[0;34m.\u001b[0m\u001b[0mintercept_\u001b[0m\u001b[0;34m\u001b[0m\u001b[0;34m\u001b[0m\u001b[0m\n\u001b[1;32m    347\u001b[0m \u001b[0;34m\u001b[0m\u001b[0m\n",
            "\u001b[0;32m/usr/local/lib/python3.8/dist-packages/sklearn/base.py\u001b[0m in \u001b[0;36m_validate_data\u001b[0;34m(self, X, y, reset, validate_separately, **check_params)\u001b[0m\n\u001b[1;32m    583\u001b[0m \u001b[0;34m\u001b[0m\u001b[0m\n\u001b[1;32m    584\u001b[0m         \u001b[0;32mif\u001b[0m \u001b[0;32mnot\u001b[0m \u001b[0mno_val_X\u001b[0m \u001b[0;32mand\u001b[0m \u001b[0mcheck_params\u001b[0m\u001b[0;34m.\u001b[0m\u001b[0mget\u001b[0m\u001b[0;34m(\u001b[0m\u001b[0;34m\"ensure_2d\"\u001b[0m\u001b[0;34m,\u001b[0m \u001b[0;32mTrue\u001b[0m\u001b[0;34m)\u001b[0m\u001b[0;34m:\u001b[0m\u001b[0;34m\u001b[0m\u001b[0;34m\u001b[0m\u001b[0m\n\u001b[0;32m--> 585\u001b[0;31m             \u001b[0mself\u001b[0m\u001b[0;34m.\u001b[0m\u001b[0m_check_n_features\u001b[0m\u001b[0;34m(\u001b[0m\u001b[0mX\u001b[0m\u001b[0;34m,\u001b[0m \u001b[0mreset\u001b[0m\u001b[0;34m=\u001b[0m\u001b[0mreset\u001b[0m\u001b[0;34m)\u001b[0m\u001b[0;34m\u001b[0m\u001b[0;34m\u001b[0m\u001b[0m\n\u001b[0m\u001b[1;32m    586\u001b[0m \u001b[0;34m\u001b[0m\u001b[0m\n\u001b[1;32m    587\u001b[0m         \u001b[0;32mreturn\u001b[0m \u001b[0mout\u001b[0m\u001b[0;34m\u001b[0m\u001b[0;34m\u001b[0m\u001b[0m\n",
            "\u001b[0;32m/usr/local/lib/python3.8/dist-packages/sklearn/base.py\u001b[0m in \u001b[0;36m_check_n_features\u001b[0;34m(self, X, reset)\u001b[0m\n\u001b[1;32m    398\u001b[0m \u001b[0;34m\u001b[0m\u001b[0m\n\u001b[1;32m    399\u001b[0m         \u001b[0;32mif\u001b[0m \u001b[0mn_features\u001b[0m \u001b[0;34m!=\u001b[0m \u001b[0mself\u001b[0m\u001b[0;34m.\u001b[0m\u001b[0mn_features_in_\u001b[0m\u001b[0;34m:\u001b[0m\u001b[0;34m\u001b[0m\u001b[0;34m\u001b[0m\u001b[0m\n\u001b[0;32m--> 400\u001b[0;31m             raise ValueError(\n\u001b[0m\u001b[1;32m    401\u001b[0m                 \u001b[0;34mf\"X has {n_features} features, but {self.__class__.__name__} \"\u001b[0m\u001b[0;34m\u001b[0m\u001b[0;34m\u001b[0m\u001b[0m\n\u001b[1;32m    402\u001b[0m                 \u001b[0;34mf\"is expecting {self.n_features_in_} features as input.\"\u001b[0m\u001b[0;34m\u001b[0m\u001b[0;34m\u001b[0m\u001b[0m\n",
            "\u001b[0;31mValueError\u001b[0m: X has 1 features, but LinearRegression is expecting 2 features as input."
          ]
        }
      ]
    },
    {
      "cell_type": "code",
      "source": [
        "# 평가 방법 2 수기로 r-square 계산하기\n",
        "y_pred = model2.predict(test_input)\n",
        "\n",
        "# 잔차 구하기\n",
        "y_mean = np.mean(test_target) # y 평균값\n",
        "\n",
        "# $\\sum(y 예측값 - y 평균값)^2$ = 예측값에 대한 편차\n",
        "nomerator = np.sum(np.square(test_target - y_pred)) \n",
        "\n",
        "# $sum(y 관측값 - y 평균값)^2$\n",
        "denominator = np.sum(np.square(test_target - y_mean))\n",
        "r2 = 1 - nomerator / denominator\n",
        "r2"
      ],
      "metadata": {
        "colab": {
          "base_uri": "https://localhost:8080/",
          "height": 390
        },
        "id": "vBIn4pCBmfwc",
        "outputId": "6a0ac6f7-6d35-460f-e44c-6f8a93ded189"
      },
      "execution_count": null,
      "outputs": [
        {
          "output_type": "error",
          "ename": "ValueError",
          "evalue": "ignored",
          "traceback": [
            "\u001b[0;31m---------------------------------------------------------------------------\u001b[0m",
            "\u001b[0;31mValueError\u001b[0m                                Traceback (most recent call last)",
            "\u001b[0;32m<ipython-input-42-3e96250e2709>\u001b[0m in \u001b[0;36m<module>\u001b[0;34m\u001b[0m\n\u001b[1;32m      1\u001b[0m \u001b[0;31m# 평가 방법 2 수기로 r-square 계산하기\u001b[0m\u001b[0;34m\u001b[0m\u001b[0;34m\u001b[0m\u001b[0;34m\u001b[0m\u001b[0m\n\u001b[0;32m----> 2\u001b[0;31m \u001b[0my_pred\u001b[0m \u001b[0;34m=\u001b[0m \u001b[0mmodel2\u001b[0m\u001b[0;34m.\u001b[0m\u001b[0mpredict\u001b[0m\u001b[0;34m(\u001b[0m\u001b[0mtest_input\u001b[0m\u001b[0;34m)\u001b[0m\u001b[0;34m\u001b[0m\u001b[0;34m\u001b[0m\u001b[0m\n\u001b[0m\u001b[1;32m      3\u001b[0m \u001b[0;34m\u001b[0m\u001b[0m\n\u001b[1;32m      4\u001b[0m \u001b[0;31m# 잔차 구하기\u001b[0m\u001b[0;34m\u001b[0m\u001b[0;34m\u001b[0m\u001b[0;34m\u001b[0m\u001b[0m\n\u001b[1;32m      5\u001b[0m \u001b[0my_mean\u001b[0m \u001b[0;34m=\u001b[0m \u001b[0mnp\u001b[0m\u001b[0;34m.\u001b[0m\u001b[0mmean\u001b[0m\u001b[0;34m(\u001b[0m\u001b[0mtest_target\u001b[0m\u001b[0;34m)\u001b[0m \u001b[0;31m# y 평균값\u001b[0m\u001b[0;34m\u001b[0m\u001b[0;34m\u001b[0m\u001b[0m\n",
            "\u001b[0;32m/usr/local/lib/python3.8/dist-packages/sklearn/linear_model/_base.py\u001b[0m in \u001b[0;36mpredict\u001b[0;34m(self, X)\u001b[0m\n\u001b[1;32m    360\u001b[0m             \u001b[0mReturns\u001b[0m \u001b[0mpredicted\u001b[0m \u001b[0mvalues\u001b[0m\u001b[0;34m.\u001b[0m\u001b[0;34m\u001b[0m\u001b[0;34m\u001b[0m\u001b[0m\n\u001b[1;32m    361\u001b[0m         \"\"\"\n\u001b[0;32m--> 362\u001b[0;31m         \u001b[0;32mreturn\u001b[0m \u001b[0mself\u001b[0m\u001b[0;34m.\u001b[0m\u001b[0m_decision_function\u001b[0m\u001b[0;34m(\u001b[0m\u001b[0mX\u001b[0m\u001b[0;34m)\u001b[0m\u001b[0;34m\u001b[0m\u001b[0;34m\u001b[0m\u001b[0m\n\u001b[0m\u001b[1;32m    363\u001b[0m \u001b[0;34m\u001b[0m\u001b[0m\n\u001b[1;32m    364\u001b[0m     \u001b[0m_preprocess_data\u001b[0m \u001b[0;34m=\u001b[0m \u001b[0mstaticmethod\u001b[0m\u001b[0;34m(\u001b[0m\u001b[0m_preprocess_data\u001b[0m\u001b[0;34m)\u001b[0m\u001b[0;34m\u001b[0m\u001b[0;34m\u001b[0m\u001b[0m\n",
            "\u001b[0;32m/usr/local/lib/python3.8/dist-packages/sklearn/linear_model/_base.py\u001b[0m in \u001b[0;36m_decision_function\u001b[0;34m(self, X)\u001b[0m\n\u001b[1;32m    343\u001b[0m         \u001b[0mcheck_is_fitted\u001b[0m\u001b[0;34m(\u001b[0m\u001b[0mself\u001b[0m\u001b[0;34m)\u001b[0m\u001b[0;34m\u001b[0m\u001b[0;34m\u001b[0m\u001b[0m\n\u001b[1;32m    344\u001b[0m \u001b[0;34m\u001b[0m\u001b[0m\n\u001b[0;32m--> 345\u001b[0;31m         \u001b[0mX\u001b[0m \u001b[0;34m=\u001b[0m \u001b[0mself\u001b[0m\u001b[0;34m.\u001b[0m\u001b[0m_validate_data\u001b[0m\u001b[0;34m(\u001b[0m\u001b[0mX\u001b[0m\u001b[0;34m,\u001b[0m \u001b[0maccept_sparse\u001b[0m\u001b[0;34m=\u001b[0m\u001b[0;34m[\u001b[0m\u001b[0;34m\"csr\"\u001b[0m\u001b[0;34m,\u001b[0m \u001b[0;34m\"csc\"\u001b[0m\u001b[0;34m,\u001b[0m \u001b[0;34m\"coo\"\u001b[0m\u001b[0;34m]\u001b[0m\u001b[0;34m,\u001b[0m \u001b[0mreset\u001b[0m\u001b[0;34m=\u001b[0m\u001b[0;32mFalse\u001b[0m\u001b[0;34m)\u001b[0m\u001b[0;34m\u001b[0m\u001b[0;34m\u001b[0m\u001b[0m\n\u001b[0m\u001b[1;32m    346\u001b[0m         \u001b[0;32mreturn\u001b[0m \u001b[0msafe_sparse_dot\u001b[0m\u001b[0;34m(\u001b[0m\u001b[0mX\u001b[0m\u001b[0;34m,\u001b[0m \u001b[0mself\u001b[0m\u001b[0;34m.\u001b[0m\u001b[0mcoef_\u001b[0m\u001b[0;34m.\u001b[0m\u001b[0mT\u001b[0m\u001b[0;34m,\u001b[0m \u001b[0mdense_output\u001b[0m\u001b[0;34m=\u001b[0m\u001b[0;32mTrue\u001b[0m\u001b[0;34m)\u001b[0m \u001b[0;34m+\u001b[0m \u001b[0mself\u001b[0m\u001b[0;34m.\u001b[0m\u001b[0mintercept_\u001b[0m\u001b[0;34m\u001b[0m\u001b[0;34m\u001b[0m\u001b[0m\n\u001b[1;32m    347\u001b[0m \u001b[0;34m\u001b[0m\u001b[0m\n",
            "\u001b[0;32m/usr/local/lib/python3.8/dist-packages/sklearn/base.py\u001b[0m in \u001b[0;36m_validate_data\u001b[0;34m(self, X, y, reset, validate_separately, **check_params)\u001b[0m\n\u001b[1;32m    583\u001b[0m \u001b[0;34m\u001b[0m\u001b[0m\n\u001b[1;32m    584\u001b[0m         \u001b[0;32mif\u001b[0m \u001b[0;32mnot\u001b[0m \u001b[0mno_val_X\u001b[0m \u001b[0;32mand\u001b[0m \u001b[0mcheck_params\u001b[0m\u001b[0;34m.\u001b[0m\u001b[0mget\u001b[0m\u001b[0;34m(\u001b[0m\u001b[0;34m\"ensure_2d\"\u001b[0m\u001b[0;34m,\u001b[0m \u001b[0;32mTrue\u001b[0m\u001b[0;34m)\u001b[0m\u001b[0;34m:\u001b[0m\u001b[0;34m\u001b[0m\u001b[0;34m\u001b[0m\u001b[0m\n\u001b[0;32m--> 585\u001b[0;31m             \u001b[0mself\u001b[0m\u001b[0;34m.\u001b[0m\u001b[0m_check_n_features\u001b[0m\u001b[0;34m(\u001b[0m\u001b[0mX\u001b[0m\u001b[0;34m,\u001b[0m \u001b[0mreset\u001b[0m\u001b[0;34m=\u001b[0m\u001b[0mreset\u001b[0m\u001b[0;34m)\u001b[0m\u001b[0;34m\u001b[0m\u001b[0;34m\u001b[0m\u001b[0m\n\u001b[0m\u001b[1;32m    586\u001b[0m \u001b[0;34m\u001b[0m\u001b[0m\n\u001b[1;32m    587\u001b[0m         \u001b[0;32mreturn\u001b[0m \u001b[0mout\u001b[0m\u001b[0;34m\u001b[0m\u001b[0;34m\u001b[0m\u001b[0m\n",
            "\u001b[0;32m/usr/local/lib/python3.8/dist-packages/sklearn/base.py\u001b[0m in \u001b[0;36m_check_n_features\u001b[0;34m(self, X, reset)\u001b[0m\n\u001b[1;32m    398\u001b[0m \u001b[0;34m\u001b[0m\u001b[0m\n\u001b[1;32m    399\u001b[0m         \u001b[0;32mif\u001b[0m \u001b[0mn_features\u001b[0m \u001b[0;34m!=\u001b[0m \u001b[0mself\u001b[0m\u001b[0;34m.\u001b[0m\u001b[0mn_features_in_\u001b[0m\u001b[0;34m:\u001b[0m\u001b[0;34m\u001b[0m\u001b[0;34m\u001b[0m\u001b[0m\n\u001b[0;32m--> 400\u001b[0;31m             raise ValueError(\n\u001b[0m\u001b[1;32m    401\u001b[0m                 \u001b[0;34mf\"X has {n_features} features, but {self.__class__.__name__} \"\u001b[0m\u001b[0;34m\u001b[0m\u001b[0;34m\u001b[0m\u001b[0m\n\u001b[1;32m    402\u001b[0m                 \u001b[0;34mf\"is expecting {self.n_features_in_} features as input.\"\u001b[0m\u001b[0;34m\u001b[0m\u001b[0;34m\u001b[0m\u001b[0m\n",
            "\u001b[0;31mValueError\u001b[0m: X has 1 features, but LinearRegression is expecting 2 features as input."
          ]
        }
      ]
    },
    {
      "cell_type": "code",
      "source": [
        "# 추가\n",
        "multivalue = PolynomialFeatures(degree=2)"
      ],
      "metadata": {
        "id": "4Brj37UAtqbA"
      },
      "execution_count": null,
      "outputs": []
    },
    {
      "cell_type": "markdown",
      "source": [
        "**3차식 선형회귀**"
      ],
      "metadata": {
        "id": "kA6GJ9Ahlyc4"
      }
    },
    {
      "cell_type": "code",
      "source": [
        "x3 = np.c_[train_input, train_input**2, train_input**3]\n",
        "y3 = train_target\n",
        "\n",
        "model3 = LinearRegression()\n",
        "model3.fit(x3, y3)\n",
        "\n",
        "model3.coef_, model3.intercept_"
      ],
      "metadata": {
        "colab": {
          "base_uri": "https://localhost:8080/"
        },
        "id": "BsXq5yAfld5u",
        "outputId": "81e57459-1f18-44e3-cbc3-978f7870e31b"
      },
      "execution_count": null,
      "outputs": [
        {
          "output_type": "execute_result",
          "data": {
            "text/plain": [
              "(array([ 7.66962200e+02, -4.78895897e-01,  4.26051016e-05]),\n",
              " 3063045.1087283767)"
            ]
          },
          "metadata": {},
          "execution_count": 34
        }
      ]
    },
    {
      "cell_type": "code",
      "source": [
        "xs3 = np.arange(1,max(train_input)+1)\n",
        "ys3 = xs3*model3.coef_[0] + (xs3**2)*model3.coef_[1] + (xs3**3)*model3.coef_[2] + model3.intercept_\n",
        "\n",
        "plt.scatter(train_input, train_target, alpha=0.3)\n",
        "plt.plot(xs3,ys3,'r-',lw=3)"
      ],
      "metadata": {
        "colab": {
          "base_uri": "https://localhost:8080/",
          "height": 294
        },
        "id": "Kijbf20_mAid",
        "outputId": "aceb9d5b-1506-437c-dce5-ecff9250283d"
      },
      "execution_count": null,
      "outputs": [
        {
          "output_type": "execute_result",
          "data": {
            "text/plain": [
              "[<matplotlib.lines.Line2D at 0x7f7e8226bd00>]"
            ]
          },
          "metadata": {},
          "execution_count": 35
        },
        {
          "output_type": "display_data",
          "data": {
            "text/plain": [
              "<Figure size 432x288 with 1 Axes>"
            ],
            "image/png": "[encoded data removed]"
          },
          "metadata": {
            "needs_background": "light"
          }
        }
      ]
    },
    {
      "cell_type": "code",
      "source": [
        "y_pred = model3.predict(test_input)\n",
        "\n",
        "# 잔차 구하기\n",
        "y_mean = np.mean(test_target) # y 평균값\n",
        "\n",
        "# $\\sum(y 예측값 - y 평균값)^2$ = 예측값에 대한 편차\n",
        "nomerator = np.sum(np.square(test_target - y_pred)) \n",
        "\n",
        "# $sum(y 관측값 - y 평균값)^2$\n",
        "denominator = np.sum(np.square(test_target - y_mean))\n",
        "r2 = 1 - nomerator / denominator\n",
        "r2"
      ],
      "metadata": {
        "colab": {
          "base_uri": "https://localhost:8080/",
          "height": 241
        },
        "id": "Hl54ZpLymSgZ",
        "outputId": "0e8150a5-c01d-485a-9385-fd86abc744f0"
      },
      "execution_count": null,
      "outputs": [
        {
          "output_type": "error",
          "ename": "TypeError",
          "evalue": "ignored",
          "traceback": [
            "\u001b[0;31m---------------------------------------------------------------------------\u001b[0m",
            "\u001b[0;31mTypeError\u001b[0m                                 Traceback (most recent call last)",
            "\u001b[0;32m<ipython-input-37-e738c6c45f8a>\u001b[0m in \u001b[0;36m<module>\u001b[0;34m\u001b[0m\n\u001b[0;32m----> 1\u001b[0;31m \u001b[0my_pred\u001b[0m \u001b[0;34m=\u001b[0m \u001b[0mmodel3\u001b[0m\u001b[0;34m.\u001b[0m\u001b[0mpredict\u001b[0m\u001b[0;34m(\u001b[0m\u001b[0mtest_input\u001b[0m\u001b[0;34m,\u001b[0m \u001b[0mtest_target\u001b[0m\u001b[0;34m)\u001b[0m\u001b[0;34m\u001b[0m\u001b[0;34m\u001b[0m\u001b[0m\n\u001b[0m\u001b[1;32m      2\u001b[0m \u001b[0;34m\u001b[0m\u001b[0m\n\u001b[1;32m      3\u001b[0m \u001b[0;31m# 잔차 구하기\u001b[0m\u001b[0;34m\u001b[0m\u001b[0;34m\u001b[0m\u001b[0;34m\u001b[0m\u001b[0m\n\u001b[1;32m      4\u001b[0m \u001b[0my_mean\u001b[0m \u001b[0;34m=\u001b[0m \u001b[0mnp\u001b[0m\u001b[0;34m.\u001b[0m\u001b[0mmean\u001b[0m\u001b[0;34m(\u001b[0m\u001b[0mtest_target\u001b[0m\u001b[0;34m)\u001b[0m \u001b[0;31m# y 평균값\u001b[0m\u001b[0;34m\u001b[0m\u001b[0;34m\u001b[0m\u001b[0m\n\u001b[1;32m      5\u001b[0m \u001b[0;34m\u001b[0m\u001b[0m\n",
            "\u001b[0;31mTypeError\u001b[0m: predict() takes 2 positional arguments but 3 were given"
          ]
        }
      ]
    },
    {
      "cell_type": "code",
      "source": [],
      "metadata": {
        "id": "jP1BjZmNndBg"
      },
      "execution_count": null,
      "outputs": []
    }
  ]
}