{
  "nbformat": 4,
  "nbformat_minor": 0,
  "metadata": {
    "colab": {
      "provenance": []
    },
    "kernelspec": {
      "name": "python3",
      "display_name": "Python 3"
    },
    "language_info": {
      "name": "python"
    }
  },
  "cells": [
    {
      "cell_type": "code",
      "source": [
        "!pip install dpkt"
      ],
      "metadata": {
        "colab": {
          "base_uri": "https://localhost:8080/"
        },
        "id": "MdbhMeMVy--r",
        "outputId": "f2b3ba5f-20c9-4a42-ad3e-ac3f61e0915d"
      },
      "execution_count": 1,
      "outputs": [
        {
          "output_type": "stream",
          "name": "stdout",
          "text": [
            "Looking in indexes: https://pypi.org/simple, https://us-python.pkg.dev/colab-wheels/public/simple/\n",
            "Collecting dpkt\n",
            "  Downloading dpkt-1.9.8-py3-none-any.whl (194 kB)\n",
            "\u001b[?25l     \u001b[90m━━━━━━━━━━━━━━━━━━━━━━━━━━━━━━━━━━━━━━━━\u001b[0m \u001b[32m0.0/195.0 KB\u001b[0m \u001b[31m?\u001b[0m eta \u001b[36m-:--:--\u001b[0m\r\u001b[2K     \u001b[90m━━━━━━━━━━━━━━━━━━━━━━━━━━━━━━━━━━━━━━\u001b[0m \u001b[32m195.0/195.0 KB\u001b[0m \u001b[31m11.9 MB/s\u001b[0m eta \u001b[36m0:00:00\u001b[0m\n",
            "\u001b[?25hInstalling collected packages: dpkt\n",
            "Successfully installed dpkt-1.9.8\n"
          ]
        }
      ]
    },
    {
      "cell_type": "code",
      "source": [
        "!pip install scapy"
      ],
      "metadata": {
        "colab": {
          "base_uri": "https://localhost:8080/"
        },
        "id": "ZHh1cnPNKoX2",
        "outputId": "7d5fb58b-381d-4f8c-982f-1651191d975a"
      },
      "execution_count": 9,
      "outputs": [
        {
          "output_type": "stream",
          "name": "stdout",
          "text": [
            "Looking in indexes: https://pypi.org/simple, https://us-python.pkg.dev/colab-wheels/public/simple/\n",
            "Requirement already satisfied: scapy in /usr/local/lib/python3.8/dist-packages (2.5.0)\n"
          ]
        }
      ]
    },
    {
      "cell_type": "code",
      "source": [
        "# Mount Google Drive\n",
        "from google.colab import drive # import drive from google colab\n",
        "\n",
        "ROOT = \"/content/drive\"     # default location for the drive\n",
        "\n",
        "drive.mount(ROOT)           # we mount the google drive at /content/drive"
      ],
      "metadata": {
        "colab": {
          "base_uri": "https://localhost:8080/"
        },
        "id": "dIosmm-Lba9B",
        "outputId": "da8681bb-f380-4ade-a2ce-e02045a3b5ad"
      },
      "execution_count": 3,
      "outputs": [
        {
          "output_type": "stream",
          "name": "stdout",
          "text": [
            "/content/drive\n",
            "Mounted at /content/drive\n"
          ]
        }
      ]
    },
    {
      "cell_type": "code",
      "source": [
        "cd /content/drive/MyDrive/22Project"
      ],
      "metadata": {
        "colab": {
          "base_uri": "https://localhost:8080/"
        },
        "id": "ARaYynjg2lFq",
        "outputId": "2b25577c-f16e-46fd-ae66-564ab6b19565"
      },
      "execution_count": 4,
      "outputs": [
        {
          "output_type": "stream",
          "name": "stdout",
          "text": [
            "/content/drive/MyDrive/22Project\n"
          ]
        }
      ]
    },
    {
      "cell_type": "markdown",
      "source": [
        "# Purpose: \n",
        "\n",
        "With using .csv file, I have to declare multiple arrays.\n",
        "\n",
        "To reduce memory and disk waste, I'll try to get throughput by using .pcap file\n",
        "\n",
        "# Process:\n",
        "\n",
        "1. Declare time array and throughput array that will be used as x-axis and y-axis\n",
        "2. Set window size as 1\n",
        "3. Check if each packet's timestamp is valid in setting time\n",
        "\n",
        "```\n",
        "# for i = 0 to maximum packet's time:\n",
        "    If time <= packet's timestamp < time+window:\n",
        "      thruput += packet's thruput\n",
        "    else:\n",
        "      move time as packet's timestamp and keep on comparing\n",
        "```\n",
        "\n",
        "\n",
        "# Dispute Point\n",
        "\n",
        "1. big size of .pcap file -> takes long time to parsing.\n",
        "- solution : split .pcap file to small size .pcap files.\n",
        "\n",
        "2. To parse .pcap file, which module you'll use? \n",
        "- dpkt module ~ fatster, simple to use\n",
        "- scapy module ~ slower, flexible\n"
      ],
      "metadata": {
        "id": "YY2W1F8O-k_L"
      }
    },
    {
      "cell_type": "code",
      "source": [
        "from sklearn.model_selection import train_test_split # To seperate train set and test set\n",
        "from sklearn.linear_model import LinearRegression # To use linear regression\n",
        "from scapy.all import * # To parse pcap file in colab\n",
        "\n",
        "import dpkt # for parsing .pcap file\n",
        "import numpy as np # for linear algebra\n",
        "import matplotlib.pyplot as plt # to show data scatter, pgraph\n",
        "import seaborn as sns\n",
        "%matplotlib inline"
      ],
      "metadata": {
        "id": "TLc7kP-0bnNL"
      },
      "execution_count": 11,
      "outputs": []
    },
    {
      "cell_type": "code",
      "source": [
        "timeArr = np.array([]) # Will be used as x-axis\n",
        "throughputArr = np.array([]) # Will be used as y-axis\n",
        "\n",
        "window = 1 # window size will be 1[sec] / for each window, read pcap file and check the throughput at that time"
      ],
      "metadata": {
        "id": "TN-q0fEDbvX-"
      },
      "execution_count": 6,
      "outputs": []
    },
    {
      "cell_type": "code",
      "source": [
        "# get last packet's time in pcap file \n",
        "filename = \"dataset_1126pcap.pcap\" # Open the file (pcap)\n",
        "with open(filename, \"rb\") as f:\n",
        "  pcap = dpkt.pcap.Reader(f)\n",
        "  last_ts = 0\n",
        "  for ts, buf in pcap: # n = the number of packets // O(n)\n",
        "    eth = dpkt.ethernet.Ethernet(buf)\n",
        "    last_ts = ts\n",
        "\n",
        "print(last_ts)"
      ],
      "metadata": {
        "colab": {
          "base_uri": "https://localhost:8080/"
        },
        "id": "lPPL3lMWgkPQ",
        "outputId": "e2a24671-9263-444a-cfb3-afa800157192"
      },
      "execution_count": 7,
      "outputs": [
        {
          "output_type": "stream",
          "name": "stdout",
          "text": [
            "1668949467.840286\n"
          ]
        }
      ]
    },
    {
      "cell_type": "code",
      "source": [
        "import math\n",
        "captured_time = 1668940204 # first captured time\n",
        "\n",
        "with open(filename, \"rb\") as f:\n",
        "  pcap = dpkt.pcap.Reader(f)\n",
        "  total_size = 0\n",
        "  for ts, buf in pcap:\n",
        "    eth = dpkt.ethernet.Ethernet(buf) # eth will be used to get size of the packet's\n",
        "    if captured_time <= ts < captured_time + window: # 만약 해당 pkt의 ts가 captured_time과 captured_time+window 사이라면\n",
        "      total_size += len(eth) # 해당 throughput을 저장\n",
        "\n",
        "    else: # If packet's timestamp is bigger than captured time,\n",
        "      timeArr = np.append(timeArr, captured_time) # Store time information in array\n",
        "      throughputArr = np.append(throughputArr, total_size) # Store throughput information in array\n",
        "\n",
        "      captured_time = math.floor(ts) # change captured_time as that packet's time\n",
        "      total_size = len(eth) # store packet's thruput"
      ],
      "metadata": {
        "id": "SOCMVgu10s6d"
      },
      "execution_count": 8,
      "outputs": []
    },
    {
      "cell_type": "code",
      "source": [
        "plt.xlabel('Time [sec]')\n",
        "plt.ylabel('Throughput [bits]')\n",
        "plt.scatter(timeArr, throughputArr)"
      ],
      "metadata": {
        "colab": {
          "base_uri": "https://localhost:8080/",
          "height": 308
        },
        "id": "UnwNWncL4H6I",
        "outputId": "2b9be40d-6c9a-4025-9e78-793ee458128c"
      },
      "execution_count": 9,
      "outputs": [
        {
          "output_type": "execute_result",
          "data": {
            "text/plain": [
              "<matplotlib.collections.PathCollection at 0x7f246e55c220>"
            ]
          },
          "metadata": {},
          "execution_count": 9
        },
        {
          "output_type": "display_data",
          "data": {
            "text/plain": [
              "<Figure size 432x288 with 1 Axes>"
            ],
            "image/png": "[encoded data removed]"
          },
          "metadata": {
            "needs_background": "light"
          }
        }
      ]
    },
    {
      "cell_type": "markdown",
      "source": [
        "---"
      ],
      "metadata": {
        "id": "GJSVjfspgkgs"
      }
    }
  ]
}